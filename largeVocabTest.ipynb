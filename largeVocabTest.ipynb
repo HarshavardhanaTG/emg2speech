{
 "cells": [
  {
   "cell_type": "code",
   "execution_count": 1,
   "metadata": {},
   "outputs": [],
   "source": [
    "import numpy as np\n",
    "\n",
    "import torch\n",
    "import torch.nn as nn\n",
    "from torch.utils.data import Dataset, DataLoader\n",
    "import torch.optim as optim\n",
    "\n",
    "from g2p_en import G2p\n",
    "import re\n",
    "\n",
    "from basicOperations.manifoldOperations import matrixDistance, frechetMean\n",
    "import torch.nn.utils as utils\n",
    "\n",
    "from rnn import euclideanRnn\n",
    "import math\n",
    "\n",
    "import pickle\n",
    "import Levenshtein\n",
    "import os\n",
    "\n",
    "import matplotlib.pyplot as plt"
   ]
  },
  {
   "cell_type": "code",
   "execution_count": null,
   "metadata": {},
   "outputs": [],
   "source": [
    "\"\"\"\n",
    "Proof for table 1, figure 2, and figure 3.\n",
    "\"\"\""
   ]
  },
  {
   "cell_type": "code",
   "execution_count": null,
   "metadata": {},
   "outputs": [],
   "source": [
    "\"\"\"\n",
    "Train LARGE-VOCAB EMG-to-phoneme conversion.\n",
    "\n",
    "For description of the data, please see largeVocabDataVisualization.ipynb\n",
    "\n",
    "Unlike data SMALL-VOCAB, there are no timestamps between words within a sentence. \n",
    "\n",
    "Given a sentence, you decode it fully using CTC loss. The pipeline resembles standard speech-to-text (ASR) techniques.\n",
    "\"\"\""
   ]
  },
  {
   "cell_type": "code",
   "execution_count": 2,
   "metadata": {},
   "outputs": [],
   "source": [
    "\"\"\"\n",
    "Open Data.\n",
    "\"\"\"\n",
    "\n",
    "with open(\"DATA/dataLargeVocab.pkl\", \"rb\") as file:\n",
    "    DATA = pickle.load(file)\n",
    "\n",
    "with open(\"DATA/labelsLargeVocab.pkl\", \"rb\") as file:\n",
    "    LABELS = pickle.load(file)"
   ]
  },
  {
   "cell_type": "code",
   "execution_count": 3,
   "metadata": {},
   "outputs": [],
   "source": [
    "\"\"\"\n",
    "English phoneme definitions.\n",
    "\"\"\"\n",
    "\n",
    "PHONE_DEF = ['AO', 'OY', 'DH', 'ZH', 'SH', 'CH', 'UH', 'NG', 'IY', 'AA', 'W', 'S', 'IH', 'K', 'EY', 'JH', 'Y', 'N', 'OW', 'M', 'P', 'T', 'B', 'AY', 'UW', 'R', 'G', 'EH', 'Z', 'TH', 'AW', \n",
    "             'HH', 'AH', 'AE', 'L', 'ER', 'F', 'V', 'D', ' ', 'SIL']\n",
    "\n",
    "def phoneToId(p):\n",
    "    return PHONE_DEF.index(p)\n",
    "\n",
    "g2p = G2p()"
   ]
  },
  {
   "cell_type": "code",
   "execution_count": 4,
   "metadata": {},
   "outputs": [],
   "source": [
    "\"\"\"\n",
    "Phonemize the sentences.\n",
    "\"\"\"\n",
    "\n",
    "phonemizedSentences = []\n",
    "\n",
    "for i in range(len(LABELS)):\n",
    "    phones = []\n",
    "    for p in g2p(LABELS[i]): \n",
    "        p = re.sub(r'[0-9]', '', p)   \n",
    "        if re.match(r'[A-Z]+', p) or p == \" \": \n",
    "            phones.append(p)\n",
    "    phonemizedSentences.append(phones)"
   ]
  },
  {
   "cell_type": "code",
   "execution_count": 5,
   "metadata": {},
   "outputs": [],
   "source": [
    "\"\"\"\n",
    "Convert phone-to-indices using look-up dictionary PHONE_DEF.\n",
    "\"\"\"\n",
    "\n",
    "phoneIndexedSentences = []\n",
    "for i in range(len(phonemizedSentences)):\n",
    "    current = phonemizedSentences[i]\n",
    "    phoneID = []\n",
    "    for j in range(len(current)):\n",
    "        phoneID.append(phoneToId(current[j]))\n",
    "    phoneIndexedSentences.append(phoneID)"
   ]
  },
  {
   "cell_type": "code",
   "execution_count": 6,
   "metadata": {},
   "outputs": [],
   "source": [
    "\"\"\"\n",
    "Pad the phone transcribed sentences to a common length (to be used with CTC loss).\n",
    "\"\"\"\n",
    "\n",
    "phonemizedLabels = np.zeros((len(phoneIndexedSentences), 76)) - 1\n",
    "for i in range(len(phoneIndexedSentences)):\n",
    "    phonemizedLabels[i, 0:len(phoneIndexedSentences[i])] = phoneIndexedSentences[i]\n",
    "\n",
    "labelLengths = np.zeros((len(phoneIndexedSentences)))\n",
    "for i in range(len(phoneIndexedSentences)):\n",
    "    labelLengths[i] = len(phoneIndexedSentences[i])"
   ]
  },
  {
   "cell_type": "code",
   "execution_count": 7,
   "metadata": {},
   "outputs": [],
   "source": [
    "\"\"\"\n",
    "z-normalize the data along the time dimension.\n",
    "\"\"\"\n",
    "\n",
    "normDATA = []\n",
    "for i in range(len(DATA)):\n",
    "    Mean = np.mean(DATA[i], axis = -1)\n",
    "    Std = np.std(DATA[i], axis = -1)\n",
    "    normDATA.append((DATA[i] - Mean[..., np.newaxis])/Std[..., np.newaxis])"
   ]
  },
  {
   "cell_type": "code",
   "execution_count": 8,
   "metadata": {},
   "outputs": [],
   "source": [
    "\"\"\"\n",
    "Slice the matrices into 50ms segments with a step size of 20ms.\n",
    "\"\"\"\n",
    "\n",
    "slicedMatrices = []\n",
    "for j in range(len(normDATA)):\n",
    "    collect = []\n",
    "    stepSize = 100 \n",
    "    windowSize = 125\n",
    "    dataLength = normDATA[j].shape[1]\n",
    "    numIters = (dataLength - windowSize) // stepSize + 1\n",
    "       \n",
    "    for i in range(numIters):\n",
    "        where = i * stepSize + windowSize\n",
    "        start = where - windowSize\n",
    "        End = where + windowSize\n",
    "        temp = 1/(2 * windowSize) * (normDATA[j][:, start:End] @ normDATA[j][:, start:End].T)\n",
    "        collect.append(0.9 * temp + 0.1 * np.trace(temp) * np.eye(31))\n",
    "    slicedMatrices.append(collect)"
   ]
  },
  {
   "cell_type": "code",
   "execution_count": 40,
   "metadata": {},
   "outputs": [],
   "source": [
    "\"\"\" Diag = TRUE or FALSE. Raw SPD matrices or approximately diagonalized?\"\"\"\n",
    "DIAG = True"
   ]
  },
  {
   "cell_type": "code",
   "execution_count": 41,
   "metadata": {},
   "outputs": [],
   "source": [
    "\"\"\"\n",
    "Approximately diagonalize the matrices using Frechet mean.\n",
    "\"\"\"\n",
    "\n",
    "MEAN = np.load(\"DATA/ckptsLargeVocab/frechetMeanLargeVocab.npy\")\n",
    "eigenvalues, eigenvectors = np.linalg.eig(MEAN)\n",
    "\n",
    "identityMatrix = np.eye(31)\n",
    "afterMatrices = np.tile(identityMatrix, (len(slicedMatrices), 409, 1, 1)) \n",
    "inputLengths = np.zeros((len(slicedMatrices)))\n",
    "for i in range(len(slicedMatrices)):\n",
    "    for j in range(len(slicedMatrices[i])):\n",
    "        if DIAG:\n",
    "            temp = eigenvectors.T @ slicedMatrices[i][j] @ eigenvectors\n",
    "        else: \n",
    "            temp = slicedMatrices[i][j]\n",
    "        afterMatrices[i, j] = temp\n",
    "    inputLengths[i] = len(slicedMatrices[i])"
   ]
  },
  {
   "cell_type": "code",
   "execution_count": 42,
   "metadata": {},
   "outputs": [],
   "source": [
    "class BaseDataset(Dataset):\n",
    "    def __init__(self, data, labels, inputLength, targetLength):\n",
    "        self.data = data \n",
    "        self.labels = labels\n",
    "        self.targetLength = targetLength\n",
    "        self.inputLength = inputLength\n",
    "\n",
    "    def __getitem__(self, index):\n",
    "        inputSeq = self.data[index].astype('float32')  \n",
    "        targetSeq = self.labels[index]\n",
    "        inputLength = int(self.inputLength[index])\n",
    "        targetLength = int(self.targetLength[index])\n",
    "        return inputSeq, targetSeq, inputLength, targetLength\n",
    "\n",
    "    def __len__(self):\n",
    "        return len(self.data)"
   ]
  },
  {
   "cell_type": "code",
   "execution_count": 43,
   "metadata": {},
   "outputs": [],
   "source": [
    "\"\"\"\n",
    "Train-validation-test split.\n",
    "\"\"\"\n",
    "\n",
    "trainFeatures = afterMatrices[:8000]\n",
    "trainLabels = phonemizedLabels[:8000]\n",
    "trainLabelLengths = labelLengths[:8000]\n",
    "trainInputLengths = inputLengths[:8000]\n",
    "\n",
    "valFeatures = afterMatrices[8000:9000]\n",
    "valLabels = phonemizedLabels[8000:9000]\n",
    "valLabelLengths = labelLengths[8000:9000]\n",
    "valInputLengths = inputLengths[8000:9000]\n",
    "\n",
    "testFeatures = afterMatrices[9000:]\n",
    "testLabels = phonemizedLabels[9000:]\n",
    "testLabelLengths = labelLengths[9000:]\n",
    "testInputLengths = inputLengths[9000:]"
   ]
  },
  {
   "cell_type": "code",
   "execution_count": 44,
   "metadata": {},
   "outputs": [],
   "source": [
    "trainDataset = BaseDataset(trainFeatures, trainLabels, trainInputLengths, trainLabelLengths)\n",
    "valDataset = BaseDataset(valFeatures, valLabels, valInputLengths, valLabelLengths)\n",
    "testDataset = BaseDataset(testFeatures, testLabels, testInputLengths, testLabelLengths)\n",
    "\n",
    "trainDataloader = DataLoader(trainDataset, batch_size = 32, shuffle = True)\n",
    "valDataloader = DataLoader(valDataset, batch_size = 32, shuffle = False)\n",
    "testDataloader = DataLoader(testDataset, batch_size = 32, shuffle = False)"
   ]
  },
  {
   "cell_type": "code",
   "execution_count": 45,
   "metadata": {},
   "outputs": [
    {
     "name": "stdout",
     "output_type": "stream",
     "text": [
      "6348591\n"
     ]
    }
   ],
   "source": [
    "\"\"\"\n",
    "To replicate the PER (phoneme error rate) for various model sizes and layers, change the variable here:\n",
    "euclideanRnn.RnnNet(41, modelHiddenDimension = 25, device, numLayers = 3).to(device)\n",
    "\"\"\"\n",
    "\n",
    "dev = \"cuda:0\"\n",
    "device = torch.device(dev)\n",
    "\n",
    "numberEpochs = 100\n",
    "\n",
    "model = euclideanRnn.RnnNet(41, 25, device, numLayers = 3).to(device)\n",
    "numParams = sum(p.numel() for p in model.parameters() if p.requires_grad)\n",
    "print(numParams)\n",
    "lossFunction = nn.CTCLoss(blank = 40, zero_infinity = True)\n",
    "rnnOptimizer = optim.Adam(model.parameters(), lr = 0.001, weight_decay = 1e-3)"
   ]
  },
  {
   "cell_type": "code",
   "execution_count": 46,
   "metadata": {},
   "outputs": [],
   "source": [
    "def testOperation(model, device, testLoader, Loss):\n",
    "    model.eval()\n",
    "    totalLoss = 0\n",
    "    Outputs = []\n",
    "    with torch.no_grad():\n",
    "        for inputs, targets, inputLengths, targetLengths in testLoader:\n",
    "            inputs, targets = inputs.to(device), targets.to(device)\n",
    "            inputLengths, targetLengths = inputLengths.to(device), targetLengths.to(device)\n",
    "            \n",
    "            outputs = model(inputs, inputLengths.cpu()) \n",
    "\n",
    "            loss = Loss(outputs, targets, inputLengths, targetLengths)\n",
    "            totalLoss += loss.item()\n",
    "            Outputs.append(outputs.transpose(0, 1))\n",
    "\n",
    "    return Outputs, totalLoss / len(testLoader)"
   ]
  },
  {
   "cell_type": "code",
   "execution_count": 47,
   "metadata": {},
   "outputs": [],
   "source": [
    "\"\"\"\n",
    "Simple beam-search algorithm.\n",
    "\"\"\"\n",
    "\n",
    "def beamSearch(ctcOutput, testInputLength, beamWidth = 5, blank = 40):\n",
    "    T, V = ctcOutput.shape\n",
    "    T = int(min(T, testInputLength))\n",
    "    beams = {(): (0.0, -np.inf)}  \n",
    "\n",
    "    for t in range(T):\n",
    "        newBeams = {}\n",
    "\n",
    "        for seq, (logProbBlank, logProbNonBlank) in beams.items():\n",
    "            for symbol in range(V):\n",
    "                prob = ctcOutput[t, symbol]  \n",
    "\n",
    "                if symbol == blank:\n",
    "                    newLogProbBlank = np.logaddexp(logProbBlank, logProbNonBlank) + prob\n",
    "                    prevLogProbBlank, prevLogProbNonBlank = newBeams.get(seq, (-np.inf, -np.inf))\n",
    "                    newBeams[seq] = (np.logaddexp(prevLogProbBlank, newLogProbBlank), prevLogProbNonBlank)\n",
    "                else:\n",
    "                    newSeq = seq + (symbol,) if not seq or seq[-1] != symbol else seq\n",
    "\n",
    "                    newLogProbNonBlank = (\n",
    "                        logProbBlank + prob if seq and seq[-1] == symbol\n",
    "                        else np.logaddexp(logProbBlank, logProbNonBlank) + prob\n",
    "                    )\n",
    "\n",
    "                    if newSeq in newBeams:\n",
    "                        prevLogProbBlank, prevLogProbNonBlank = newBeams[newSeq]\n",
    "                        newBeams[newSeq] = (\n",
    "                            prevLogProbBlank, \n",
    "                            np.logaddexp(prevLogProbNonBlank, newLogProbNonBlank)\n",
    "                        )\n",
    "                    else:\n",
    "                        newBeams[newSeq] = (-np.inf, newLogProbNonBlank)\n",
    "\n",
    "        \n",
    "        beams = dict(sorted(newBeams.items(), key = lambda x: np.logaddexp(*x[1]), reverse = True)[:beamWidth])\n",
    "\n",
    "    bestSeq = max(beams.items(), key = lambda x: np.logaddexp(*x[1]))[0]\n",
    "    return bestSeq\n",
    "\n",
    "def findClosestTranscription(decodedTranscript, phoneticTranscription):\n",
    "    \n",
    "    dist = Levenshtein.distance(decodedTranscript, phoneticTranscription)\n",
    "\n",
    "    return dist"
   ]
  },
  {
   "cell_type": "code",
   "execution_count": 49,
   "metadata": {},
   "outputs": [
    {
     "name": "stdout",
     "output_type": "stream",
     "text": [
      "TEST LOSS:  1.8337221510948674\n"
     ]
    }
   ],
   "source": [
    "modelWeight = torch.load(\"DATA/ckptsLargeVocab/ckptLargeVocab.pt\", weights_only = True)\n",
    "model.load_state_dict(modelWeight)\n",
    "output, testLoss = testOperation(model, device, testDataloader, lossFunction)\n",
    "\n",
    "print(\"TEST LOSS: \", testLoss)"
   ]
  },
  {
   "cell_type": "code",
   "execution_count": 50,
   "metadata": {},
   "outputs": [],
   "source": [
    "outs = []\n",
    "for o in output:\n",
    "    for oo in o:\n",
    "        outs.append(oo)"
   ]
  },
  {
   "cell_type": "code",
   "execution_count": 51,
   "metadata": {},
   "outputs": [],
   "source": [
    "LEVS = []\n",
    "decodedOut = []\n",
    "for i in range(1970):\n",
    "    decodedSymbols = beamSearch(outs[i].cpu().numpy(), testInputLengths[i]) \n",
    "    phoneOut = []\n",
    "    for i in range(len(decodedSymbols)):\n",
    "        phoneOut.append(PHONE_DEF[decodedSymbols[i]])\n",
    "    decodedOut.append(phoneOut)\n",
    "\n",
    "levs = []\n",
    "phoneLENGTHS = []\n",
    "for i in range(len(decodedOut)):\n",
    "    phoneLENGTHS.append(len(phonemizedSentences[9000 + i]))\n",
    "    levs.append(findClosestTranscription(decodedOut[i], phonemizedSentences[9000 + i]))\n",
    "LEVS.append(np.mean(levs))"
   ]
  },
  {
   "cell_type": "code",
   "execution_count": 52,
   "metadata": {},
   "outputs": [
    {
     "name": "stdout",
     "output_type": "stream",
     "text": [
      "Mean length of sentences:  24.543654822335025\n",
      "Mean phoneme error rate (insertion errors + deletion errors + substitution errors):  11.925380710659898\n",
      "Percent phoneme error:  0.4858844698144816\n"
     ]
    }
   ],
   "source": [
    "print(\"Mean length of sentences: \", np.mean(phoneLENGTHS))\n",
    "print(\"Mean phoneme error rate (insertion errors + deletion errors + substitution errors): \", np.mean(levs))\n",
    "print(\"Percent phoneme error: \", np.mean(levs)/np.mean(phoneLENGTHS))"
   ]
  },
  {
   "cell_type": "code",
   "execution_count": 80,
   "metadata": {},
   "outputs": [
    {
     "name": "stdout",
     "output_type": "stream",
     "text": [
      "[1381  989 1800 1119 1525 1920 1056  835  170   87  741  536  939 1447\n",
      " 1214 1126 1548 1538  988  408 1892 1751   55 1185   59  563 1478   42\n",
      " 1027  237 1962 1768 1771  161  897  522 1562  785  155 1686 1908 1797\n",
      "  778  790  239  363 1039 1821 1546  182 1467 1116  892  779  428  188\n",
      "  894 1047   89  740  787  806 1128 1687  815  486  623 1121  738  991\n",
      "  119 1130  706  693  764 1504 1437  685 1333  197 1798  540  655  236\n",
      "  666  810 1212 1055 1268  192  703  997 1807 1231 1550  101 1233 1740\n",
      "  289 1035]\n"
     ]
    }
   ],
   "source": [
    "\"\"\"\n",
    "Sort the decoded sentences from best-to-worst. Display 100 best decoded sentences.\n",
    "\"\"\"\n",
    "\n",
    "indices = np.argsort(np.array(levs)/np.array(phoneLENGTHS))\n",
    "print(indices[:100])"
   ]
  },
  {
   "cell_type": "code",
   "execution_count": 81,
   "metadata": {},
   "outputs": [
    {
     "name": "stdout",
     "output_type": "stream",
     "text": [
      "Decoded phoneme sequence:  ['IH', 'T', ' ', 'W', 'AA', 'Z', ' ', 'P', 'EY', 'T', ' ', 'F', 'AO', 'R']\n",
      "Ground truth phoneme sequence:  ['IH', 'T', ' ', 'W', 'AA', 'Z', ' ', 'P', 'EY', 'D', ' ', 'F', 'AO', 'R']\n",
      "Ground truth label:  it was paid for\n",
      " \n",
      "Levenshtein distance between decoded and ground truth sequence:  1\n",
      "Length of ground truth sequence:  14\n"
     ]
    }
   ],
   "source": [
    "\"\"\"\n",
    "Visualize decoded sentences.\n",
    "\"\"\"\n",
    "\n",
    "which = 1381\n",
    "print(\"Decoded phoneme sequence: \", decodedOut[which])\n",
    "print(\"Ground truth phoneme sequence: \", phonemizedSentences[9000 + which])\n",
    "print(\"Ground truth label: \", LABELS[9000 + which])\n",
    "print(\" \")\n",
    "print(\"Levenshtein distance between decoded and ground truth sequence: \", Levenshtein.distance(decodedOut[which], phonemizedSentences[9000 + which]))\n",
    "print(\"Length of ground truth sequence: \", len(phonemizedSentences[9000 + which]))"
   ]
  },
  {
   "cell_type": "code",
   "execution_count": null,
   "metadata": {},
   "outputs": [],
   "source": [
    "\"\"\"\n",
    "Do word modeling. It is a very simple 3-gram model.\n",
    "The model was trained on the first 9000 sentences in the dataset (i.e., train and validation sets) with kneLM using the command: lmplz -o 3 < train.txt > 3gram.arpa\n",
    "\n",
    "1) We mainly rely on matching phoneme segments to word pronunciations in a lexicon dectionary containing all possible unique words.\n",
    "2) kneLM language model is only used to disambiguate and choose coherent word sequences.\n",
    "\"\"\""
   ]
  },
  {
   "cell_type": "code",
   "execution_count": 55,
   "metadata": {},
   "outputs": [],
   "source": [
    "import kenlm\n",
    "from rapidfuzz.distance import Levenshtein\n",
    "from itertools import product\n",
    "from heapq import heappush, heappop\n",
    "from jiwer import wer\n",
    "from typing import List, Dict, Tuple"
   ]
  },
  {
   "cell_type": "code",
   "execution_count": 56,
   "metadata": {},
   "outputs": [
    {
     "name": "stderr",
     "output_type": "stream",
     "text": [
      "Loading the LM will be faster if you build a binary file.\n",
      "Reading /mnt/dataDrive/emgFullCorpora/toUpload/DATA/ckptsLargeVocab/3gram.arpa\n",
      "----5---10---15---20---25---30---35---40---45---50---55---60---65---70---75---80---85---90---95--100\n",
      "****************************************************************************************************\n"
     ]
    }
   ],
   "source": [
    "lm = kenlm.Model(\"DATA/ckptsLargeVocab/3gram.arpa\")"
   ]
  },
  {
   "cell_type": "code",
   "execution_count": 57,
   "metadata": {},
   "outputs": [],
   "source": [
    "uniqueWords = []\n",
    "for label in LABELS:\n",
    "    words = label.split(\" \")\n",
    "    for word in words:\n",
    "        if word not in uniqueWords:\n",
    "            uniqueWords.append(word)"
   ]
  },
  {
   "cell_type": "code",
   "execution_count": 58,
   "metadata": {},
   "outputs": [
    {
     "name": "stdout",
     "output_type": "stream",
     "text": [
      "6516\n",
      "['nuclear', 'rockets', 'can', 'destroy', 'airfields', 'with', 'ease', 'the', 'best', 'way', 'to', 'learn', 'is', 'solve', 'extra', 'problems', 'spray', 'will', 'be', 'used', 'in', 'first', 'division', 'matches', 'next', 'season', 'our', 'experiments', 'positive', 'outcome', 'was', 'unexpected', 'alimony', 'harms', 'a', 'divorced', 'mans', 'wealth', 'she', 'uses', 'both', 'names', 'interchangeably', 'misquote', 'retracted', 'an', 'apology', 'critics', 'fear', 'erosion', 'of', 'consumer', 'protections', 'and', 'environmental', 'standards', 'her', 'lips', 'moist', 'parted', 'spoke', 'his', 'name', 'how', 'do', 'they', 'turn', 'out', 'later', 'eastern', 'coast', 'place', 'for', 'pure', 'pleasure', 'excitement', 'please', 'make', 'your', 'decision', 'wisely', 'visit', 'beach', 'encouraged', 'children', 'their', 'own', 'halloween', 'costumes', 'cleaned', 'cloth', 'must', 'protected', 'against', 'redeposition', 'dispersed', 'soil', 'figures', 'would', 'go', 'higher', 'years', 'always', 'jokes', 'about', 'too', 'much', 'garlic', 'food', 'if', 'people', 'were', 'more', 'generous', 'there', 'no', 'need', 'welfare', 'dimensions', 'these', 'waves', 'dwarf', 'all', 'usual', 'measurement', 'knifelike', 'pain', 'groin', 'nearly', 'brought', 'him', 'down', 'again', 'selecting', 'bunks', 'by', 'economic', 'comparison', 'usually', 'individual', 'problem', 'have', 'test', 'run', 'on', 'family', 'sure', 'timing', 'seasoning', 'are', 'right', 'good', 'attitude', 'unbeatable', 'lid', 'sugar', 'bowl', 'same', 'as', 'jar', 'lids', 'omitting', 'design', 'disk', 'its', 'healthier', 'cook', 'without', 'ironically', 'enough', 'this', 'instance', 'such', 'personal', 'virtues', 'luxury', 'every', 'cab', 'needs', 'repainting', 'often', 'coconut', 'cream', 'pie', 'makes', 'nice', 'dessert', 'george', 'seldom', 'watches', 'daytime', 'movies', 'wooded', 'stream', 'valleys', 'folds', 'earth', 'saved', 'nearest', 'synagogue', 'may', 'not', 'within', 'walking', 'distance', 'some', 'measures', 'student', 'debt', 'relief', 'already', 'been', 'taken', 'morphophonemic', 'rules', 'thought', 'joining', 'certain', 'points', 'system', 'talk', 'turns', 'what', 'he', 'calls', 'mess', 'or', 'sometimes', 'buzzing', 'confusion', 'structures', 'housing', 'apartments', 'masonry', 'frame', 'construction', 'i', 'ate', 'oyster', 'noras', 'plate', 'occur', 'through', 'facebook', 'hastily', 'boy', 'switched', 'ceiling', 'light', 'struggle', 'visuals', 'but', 'dose', 'sometime', 'soon', 'call', 'ambulance', 'medical', 'assistance', 'it', 'snaps', 'back', 'into', 'morning', 'doesnt', 'want', 'look', 'frowningly', 'at', 'speak', 'angrily', 'almonds', 'pistachio', 'nuts', 'so', 'high', 'oil', 'rich', 'protein', 'cigarettes', 'clay', 'ashtray', 'overflowed', 'onto', 'oak', 'table', 'require', 'parliamentary', 'approval', 'before', 'come', 'force', 'we', 'produce', 'peanut', 'greater', 'extent', 'eat', 'entire', 'seed', 'election', 'other', 'hand', 'unquestionably', 'strengthen', 'regulars', 'atypical', 'farmers', 'grow', 'oats', 'further', 'has', 'work', 'cut', 'stopping', 'anarchy', 'where', 'now', 'garrisoned', 'my', 'desires', 'simple', 'give', 'me', 'one', 'informative', 'paragraph', 'subject', 'did', 'chicken', 'sir', 'moisture', 'eyes', 'from', 'eyedrops', 'tears', 'staff', 'deserves', 'lot', 'credit', 'working', 'here', 'under', 'real', 'obstacles', 'protect', 'skin', 'exposure', 'sun', 'suburban', 'housewives', 'suffer', 'gab', 'habit', 'grandmother', 'outgrew', 'upbringing', 'petticoats', 'johns', 'brother', 'repainted', 'garage', 'door', 'octillion', 'atoms', 'let', 'us', 'see', 'power', 'comes', 'big', 'house', 'remote', 'countryside', 'banked', 'treasure', 'hearts', 'friends', 'nothing', 'done', 'yet', 'take', 'advantage', 'enabling', 'legislation', 'enemy', 'also', 'threatening', 'devour', 'manufacturer', 'initiative', 'pointing', 'costs', 'involved', 'according', 'new', 'revisions', 'might', 'very', 'well', 'change', 'fill', 'that', 'canteen', 'fresh', 'spring', 'water', 'does', 'angora', 'cats', 'furrier', 'than', 'siamese', 'employee', 'layoffs', 'coincided', 'companys', 'reorganization', 'microorganisms', 'responsible', 'rapid', 'spoilage', 'foods', 'relaxed', 'home', 'atmosphere', 'help', 'outgrow', 'traits', 'point', 'urging', 'decadent', 'themes', 'given', 'fewer', 'prizes', 'emblem', 'depicts', 'acropolis', 'aglow', 'local', 'drugstore', 'charged', 'illegally', 'dispensing', 'tranquilizers', 'noise', 'grows', 'annoying', 'each', 'day', 'shoulder', 'felt', 'broken', 'class', 'biased', 'decisions', 'cliff', 'soothed', 'luxurious', 'massage', 'eating', 'spinach', 'nightly', 'increases', 'strength', 'miraculously', 'failure', 'open', 'store', 'eight', 'cost', 'job', 'emperor', 'had', 'mean', 'temper', 'flexible', 'voice', 'uncommon', 'range', 'superbly', 'disciplined', 'birthday', 'parties', 'cupcakes', 'ice', 'congratulate', 'membership', 'record', 'you', 'adjustable', 'vision', 'looked', 'lazy', 'spoiled', 'little', 'querulous', 'toddler', 'found', 'clamshell', 'near', 'camp', 'site', 'westchester', 'county', 'york', 'ancient', 'subway', 'escalator', 'doing', 'confidence', 'banks', 'something', 'economy', 'said', 'hispanic', 'quite', 'colorful', 'official', 'deadline', 'cannot', 'postponed', 'ships', 'slow', 'get', 'many', 'sailors', 'any', 'shown', 'advance', 'outpost', 'atop', 'cleared', 'ridge', 'raisins', 'outdoors', 'porch', 'steps', 'historical', 'existence', 'created', 'puree', 'fruit', 'preparing', 'skewers', 'diagram', 'sense', 'only', 'after', 'study', 'lots', 'foreign', 'subtitles', 'trim', 'away', 'excess', 'reinforce', 'seam', 'coil', 'allow', 'child', 'pop', 'elements', 'majority', 'competitors', 'above', 'friend', 'seeker', 'almost', 'pathetic', 'eagerness', 'liked', 'thus', 'clearer', 'authority', 'administrative', 'legislative', 'illusion', 'iguanas', 'alligators', 'tropical', 'reptiles', 'screwdriver', 'made', 'vodka', 'orange', 'juice', 'lone', 'star', 'shone', 'early', 'evening', 'sky', 'crestfallen', 'somehow', 'disappointed', 'whole', 'human', 'race', 'easy', 'daphnes', 'swedish', 'needlepoint', 'scarf', 'matched', 'skirt', 'who', 'love', 'abides', 'death', 'fun', 'roast', 'marshmallows', 'gas', 'burner', 'measure', 'moves', 'senate', 'floor', 'vote', 'palm', 'protects', 'surfaces', 'steel', 'sheets', 'plated', 'tin', 'seamstresses', 'attach', 'zippers', 'thimble', 'needle', 'thread', 'garden', 'breaks', 'few', 'days', 'touched', 'topics', 'backpacking', 'travel', 'try', 'recall', 'events', 'chronological', 'order', 'bob', 'papered', 'over', 'living', 'room', 'murals', 'happens', 'looters', 'find', 'act', 'refusal', 'useful', 'thick', 'elm', 'forest', 'overwhelmed', 'dutch', 'disease', 'looking', 'employment', 'cliffs', 'display', 'misplaced', 'screen', 'norwegian', 'sweaters', 'lambs', 'wool', 'news', 'published', 'old', 'version', 'website', 'fact', 'defensive', 'unit', 'leather', 'handbag', 'suitable', 'gift', 'moment', 'mount', 'hung', 'midair', 'classical', 'performance', 'gained', 'critical', 'acclaim', 'mosquitoes', 'exist', 'warm', 'humid', 'climates', 'glue', 'oozed', 'tube', 'draw', 'graph', 'axis', 'birth', 'miraculous', 'mysterious', 'drop', 'five', 'forms', 'box', 'should', 'live', 'modest', 'circumstances', 'avoiding', 'conspicuous', 'consumption', 'reading', 'poor', 'gives', 'eyestrain', 'destroying', 'army', 'deprive', 'freedom', 'action', 'words', 'rituals', 'adult', 'trick', 'which', 'church', 'smiths', 'worship', 'barracuda', 'recoiled', 'serpents', 'poisonous', 'fangs', 'preoccupied', 'faith', 'dim', 'remember', 'identical', 'twins', 'enter', 'freely', 'connoisseur', 'enjoy', 'shellfish', 'dish', 'ellipsoids', 'conclusions', 'reasonable', 'approximation', 'wider', 'discretionary', 'choices', 'customers', 'steph', 'could', 'barely', 'handle', 'psychological', 'trauma', 'oily', 'like', 'salad', 'dressing', 'severe', 'myopia', 'contributed', 'rons', 'inferiority', 'complex', 'file', 'related', 'audits', 'valley', 'lodge', 'yearly', 'celebrates', 'calf', 'born', 'steve', 'collects', 'rare', 'novel', 'coins', 'scholastic', 'aptitude', 'judged', 'standardized', 'tests', 'enlisted', 'loyal', 'experts', 'zealous', 'volunteers', 'castor', 'castorbeans', 'gone', 'style', 'medicine', 'charge', 'choosing', 'brides', 'maids', 'gowns', 'never', 'villains', 'keep', 'seats', 'boys', 'just', 'put', 'finishing', 'touches', 'thing', 'fifth', 'contains', 'juicy', 'peaches', 'things', 'escape', 'fears', 'forget', 'worries', 'shipbuilding', 'most', 'fascinating', 'process', 'triumphant', 'warrior', 'exhibited', 'naive', 'heroism', 'maybe', 'fair', 'city', 'ghost', 'town', 'those', 'being', 'prepared', 'stories', 'son', 'unusual', 'curiosity', 'mediocrity', 'coexist', 'line', 'barbecue', 'fire', 'heavy', 'foil', 'reflect', 'heat', 'remained', 'lifelong', 'companions', 'pizzerias', 'convenient', 'quick', 'lunch', 'ideal', 'begins', 'hot', 'coffee', 'body', 'processes', 'slowed', 'dispel', 'fatigue', 'poisons', 'growing', 'kept', 'gardens', 'time', 'consuming', 'laugh', 'dance', 'sing', 'fortune', 'smiles', 'upon', 'objects', 'pewter', 'beautiful', 'large', 'ironing', 'board', 'guided', 'easily', 'visualized', 'following', 'giraffes', 'small', 'zoos', 'groups', 'bookings', 'affected', 'partial', 'closure', 'notified', 'cartoons', 'cynics', 'contrary', 'mothers', 'law', 'welcome', 'students', 'year', 'flying', 'standby', 'practical', 'save', 'money', 'picked', 'up', 'nine', 'pairs', 'socks', 'experience', 'distress', 'frustration', 'obtaining', 'degrees', 'beloved', 'ward', 'perennial', 'gadfly', 'whining', 'precaution', 'outlaws', 'bought', 'gunpowder', 'stronghold', 'brown', 'corduroy', 'coat', 'soaked', 'muscular', 'abdomen', 'worm', 'hook', 'regular', 'attendance', 'required', 'beg', 'guard', 'gallon', 'specific', 'browser', 'versions', 'thinner', 'am', 'stole', 'dime', 'beggar', 'atheists', 'club', 'theme', 'addition', 'subtraction', 'learned', 'skills', 'dew', 'spider', 'web', 'glistened', 'spent', 'great', 'deal', 'effort', 'making', 'demo', 'challenge', 'generals', 'intelligence', 'sleepy', 'answered', 'envision', 'life', 'accomplished', 'artists', 'obtain', 'popularity', 'monday', 'artificial', 'brush', 'fires', 'common', 'dry', 'underbrush', 'nevada', 'residential', 'associations', 'insulate', 'themselves', 'intrusions', 'grades', 'lower', 'nancys', 'mango', 'papaya', 'rob', 'sat', 'pond', 'sketched', 'stray', 'geese', 'however', 'lively', 'rove', 'believed', 'brave', 'cry', 'seen', 'among', 'terrific', 'uplift', 'yeah', 'seems', 'laughed', 'hugging', 'close', 'giant', 'redwoods', 'shimmered', 'glistening', 'count', 'number', 'teaspoons', 'soysauce', 'add', 'legislature', 'met', 'judge', 'state', 'public', 'education', 'pickpocket', 'caught', 'red', 'handed', 'viewpoint', 'overlooked', 'ocean', 'measured', 'characteristics', 'experimental', 'listed', 'aches', 'whenever', 'barometric', 'pressure', 'changes', 'neglect', 'means', 'spiritual', 'paralysis', 'chosen', 'become', 'robin', 'wear', 'yellow', 'lily', 'once', 'finish', 'greasing', 'chain', 'wash', 'thoroughly', 'caged', 'traded', 'sold', 'part', 'equation', 'fjords', 'snow', 'flurries', 'armed', 'sophistication', 'numerous', 'competing', 'media', 'policymakers', 'giving', 'view', 'mole', 'round', 'oval', 'shape', 'appears', 'spot', 'educational', 'goals', 'arbitrary', 'whimsical', 'developing', 'film', 'toxic', 'chemicals', 'got', 'drenched', 'uninterrupted', 'rain', 'came', 'reassure', 'dark', 'murky', 'lagoon', 'wound', 'around', 'miles', 'toss', 'slips', 'paper', 'grab', 'bag', 'coauthors', 'presented', 'book', 'haughty', 'audience', 'thermometer', 'touch', 'revolving', 'spit', 'hit', 'coals', 'youve', 'psychologically', 'reception', 'climax', 'sermon', 'lose', 'export', 'markets', 'deny', 'ourselves', 'imports', 'meow', 'hurts', 'ears', 'singers', 'finger', 'splinter', 'sudden', 'departure', 'shocked', 'cast', 'permanent', 'records', 'wore', 'prestige', 'uniform', 'agency', 'hired', 'journalist', 'grown', 'steep', 'junglelike', 'slopes', 'temperate', 'zones', 'technical', 'writers', 'abbreviate', 'bibliographies', 'distinguished', 'man', 'called', 'divinities', 'join', 'toothpaste', 'squeezed', 'bottom', 'bright', 'sunshine', 'shimmers', 'written', 'conversation', 'teeth', 'project', 'development', 'proceeding', 'slowly', 'typhoid', 'malaria', 'kid', 'manners', 'cowboys', 'humorous', 'cow', 'milk', 'pitcher', 'colleges', 'coeducational', 'wealthy', 'tycoons', 'splurged', 'yacht', 'schooner', 'equipment', 'proper', 'maintenance', 'narrow', 'fringe', 'sadness', 'ran', 'emphasized', 'necessary', 'replace', 'halves', 'grill', 'sear', 'cuts', 'allot', 'face', 'turned', 'pink', 'smothered', 'cough', 'desire', 'ability', 'read', 'important', 'aspects', 'cultural', 'theirs', 'sacrificial', 'earthly', 'creole', 'cooking', 'use', 'curry', 'wardrobe', 'consists', 'skirts', 'blouses', 'shop', 'adage', 'still', 'holds', 'mechanic', 'bad', 'boss', 'dirty', 'cleaners', 'morrow', 'irate', 'actor', 'stomped', 'idiotically', 'civilian', 'casualties', 'staggering', 'tomboy', 'play', 'relation', 'tradition', 'requires', 'parental', 'age', 'marriage', 'gwen', 'planted', 'green', 'beans', 'vegetable', 'players', 'bandaged', 'wounds', 'skill', 'doctor', 'tetanus', 'avoided', 'pouring', 'turpentine', 'seeds', 'soybean', 'cotton', 'corn', 'sesame', 'yield', 'semidrying', 'oils', 'thirty', 'rode', 'pace', 'dolphins', 'intelligent', 'marine', 'mammals', 'instructions', 'desperately', 'updating', 'hood', 'jeep', 'steaming', 'precincts', 'third', 'votes', 'counted', 'roasts', 'insert', 'meat', 'diagonally', 'rest', 'bone', 'scoop', 'exotic', 'purple', 'turquoise', 'sherbet', 'chip', 'payments', 'until', 'latest', 'possible', 'date', 'total', 'three', 'volumes', 'final', 'combustion', 'chamber', 'volume', 'roy', 'ignored', 'spurious', 'data', 'drawing', 'fullness', 'evenly', 'two', 'theaters', 'barbs', 'gold', 'bracelet', 'graduation', 'present', 'shawn', 'catch', 'goose', 'trespassing', 'forbidden', 'penalty', 'cries', 'rationality', 'exboyfriend', 'meet', 'exhusband', 'them', 'gus', 'saw', 'pine', 'trees', 'walk', 'sequoia', 'national', 'scalp', 'blistered', 'todays', 'girlie', 'aint', 'going', 'nowhere', 'simpler', 'terms', 'amounts', 'platform', 'direction', 'service', 'rewarded', 'tips', 'occasionally', 'reads', 'wall', 'street', 'journal', 'describe', 'idiotic', 'predicament', 'shall', 'happened', 'when', 'took', 'idea', 'literally', 'huge', 'outage', 'rarely', 'occurs', 'long', 'showers', 'cool', 'explicitly', 'delete', 'files', 'catastrophic', 'cutbacks', 'bristles', 'soft', 'gums', 'scratch', 'enamel', 'withdraw', 'phony', 'accusations', 'straw', 'hats', 'fashion', 'untimely', 'income', 'loss', 'breakdown', 'heating', 'peeling', 'hard', 'while', 'amateur', 'insurance', 'fine', 'feathered', 'yard', 'birds', 'avalanche', 'triggered', 'minor', 'earthquake', 'security', 'prison', 'surrounded', 'barbed', 'wire', 'taxation', 'representation', 'cranberry', 'bog', 'gets', 'pretty', 'autumn', 'disobeyed', 'result', 'turmoil', 'chaos', 'carpet', 'shampooed', 'oriental', 'rug', 'alfalfa', 'healthy', 'evaluated', 'washing', 'clean', 'swatches', 'ones', 'broil', 'toast', 'whoever', 'cooperates', 'finding', 'nans', 'cameo', 'leeway', 'rationalize', 'errors', 'esoteric', 'doctrine', 'lost', 'shuffle', 'acquire', 'special', 'powers', 'move', 'garbage', 'nearer', 'window', 'business', 'mergers', 'meeting', 'adjourned', 'invest', 'black', 'zircons', 'instead', 'stylish', 'shoes', 'bogged', 'bickering', 'tell', 'original', 'forgery', 'advertising', 'verse', 'plymouth', 'variety', 'taking', 'longer', 'squared', 'bankers', 'expected', 'story', 'digging', 'federal', 'lobbying', 'disclosure', 'think', 'differently', 'anyhow', 'salted', 'snakes', 'either', 'visually', 'approximated', 'feeling', 'himself', 'roll', 'lay', 'cooperation', 'along', 'understanding', 'alleviate', 'dispute', 'agree', 'essay', 'intelligible', 'abortion', 'ends', 'persuasion', 'laws', 'praise', 'god', 'titter', 'loudly', 'passed', 'lie', 'probably', 'sexual', 'perversion', 'mental', 'health', 'issue', 'allowance', 'undeniably', 'reflects', 'ably', 'cyclical', 'programs', 'compile', 'twilight', 'twelfth', 'chablis', 'field', 'workers', 'rough', 'tough', 'combine', 'ingredients', 'note', 'awe', 'tiny', 'icicles', 'below', 'roof', 'anti', 'slavery', 'movement', 'consume', 'candies', 'sitting', 'gregory', 'tom', 'chose', 'watch', 'afternoon', 'draft', 'declaration', 'wont', 'tip', 'murrays', 'facing', 'trouble', 'difference', 'evidence', 'opposite', 'conclusion', 'obesity', 'adults', 'celebrate', 'brothers', 'success', 'guess', 'question', 'answer', 'wandered', 'farmland', 'became', 'thyroid', 'function', 'yielded', 'normal', 'results', 'kayak', 'bayou', 'mom', 'strongly', 'dislikes', 'appetizers', 'ducks', 'webbed', 'feet', 'feathers', 'significant', 'import', 'exaggerated', 'apply', 'auditory', 'modeling', 'computer', 'speech', 'recognition', 'succeeding', 'acts', 'violence', 'casual', 'crushed', 'unlined', 'white', 'why', 'added', 'petty', 'jealousies', 'grievances', 'else', 'danny', 'others', 'rose', 'corsage', 'smelled', 'sweet', 'tugboats', 'capable', 'hauling', 'loads', 'then', 'administer', 'ligand', 'measurements', 'raccoons', 'slipped', 'phils', 'night', 'dog', 'chases', 'mercilessly', 'careful', 'plow', 'flower', 'beds', 'rock', 'music', 'rhythm', 'solving', 'variables', 'even', 'explosion', 'greg', 'buys', 'weekday', 'weatherproof', 'galoshes', 'seattle', 'originals', 'necessarily', 'adaptations', 'causeway', 'ended', 'abruptly', 'shore', 'assume', 'damage', 'hull', 'briefly', 'sensibly', 'oratorical', 'flourishes', 'teacher', 'art', 'thou', 'late', 'seemed', 'unnecessarily', 'noisy', 'december', 'january', 'months', 'spend', 'miami', 'calm', 'assuring', 'peace', 'yours', 'elderly', 'excluded', 'sulphur', 'copra', 'kind', 'tinder', 'firebug', 'dreams', 'dont', 'group', 'valuables', 'bank', 'vault', 'serve', 'coleslaw', 'bagpipes', 'bongos', 'musical', 'instruments', 'immediate', 'instantaneous', 'regime', 'doctors', 'prescribe', 'drugs', 'suburbanites', 'worked', 'refurbishing', 'older', 'loved', 'chew', 'rag', 'doll', 'hallway', 'opens', 'jeffs', 'toy', 'gocart', 'haunted', 'due', 'outstanding', 'audiovisual', 'effects', 'auburn', 'hair', 'reminded', 'leaves', 'aim', 'balance', 'benefit', 'package', 'hannah', 'second', 'step', 'nobody', 'showed', 'horses', 'occasion', 'increased', 'graphics', 'resolutions', 'visual', 'last', 'shortage', 'caused', 'price', 'happening', 'encyclopedias', 'anecdotal', 'talking', 'main', 'probabilities', 'risks', 'danger', 'general', 'biologists', 'radioactive', 'isotopes', 'masquerade', 'tax', 'imagination', 'task', 'forces', 'rescue', 'hostages', 'kidnappers', 'willowy', 'woman', 'muskrat', 'bloomberg', 'focused', 'activity', 'least', 'asian', 'countries', 'extended', 'comment', 'strawberry', 'sundae', 'dinner', 'brochure', 'particularly', 'prospective', 'buyer', 'calico', 'cat', 'interpretation', 'lines', 'perpendicular', 'groundhog', 'clearly', 'shadow', 'stayed', 'tim', 'takes', 'sheila', 'twice', 'week', 'tapestry', 'publicity', 'notoriety', 'straight', 'symbolize', 'uniqueness', 'circle', 'universality', 'holiday', 'aprons', 'available', 'pays', 'buy', 'quality', 'clothing', 'youre', 'principles', 'told', 'discouraged', 'porcupines', 'resemble', 'sea', 'urchins', 'lack', 'compounded', 'tenants', 'cases', 'soils', 'liquids', 'capillary', 'tofu', 'processed', 'soybeans', 'clams', 'oceans', 'edge', 'steam', 'baths', 'writes', 'value', 'weve', 'hate', 'machine', 'iris', 'thinks', 'zoo', 'eleven', 'spanish', 'zebras', 'bake', 'onehalf', 'hour', 'organisation', 'spoken', 'trish', 'hours', 'saturday', 'poems', 'train', 'evocative', 'image', 'decking', 'quarterinch', 'mahogany', 'plywood', 'reason', 'mainly', 'financial', 'jim', 'archeological', 'museum', 'id', 'ride', 'havent', 'proof', 'seeking', 'books', 'comb', 'fingers', 'inversion', 'position', 'itself', 'exacerbate', 'condition', 'cause', 'injury', 'basketball', 'entertaining', 'sport', 'burglar', 'ever', 'covered', 'container', 'kitchen', 'pail', 'toilet', 'afraid', 'guy', 'idolize', 'michael', 'colored', 'bedroom', 'crayons', 'cheap', 'stockings', 'theyre', 'worn', 'contributions', 'greatly', 'appreciated', 'gently', 'jims', 'foam', 'sculpture', 'exclusive', 'documents', 'locked', 'times', 'sprained', 'ankle', 'slope', 'sweetsour', 'sauce', 'onion', 'affirmative', 'stirrin', 'suggested', 'discussion', 'split', 'wheel', 'social', 'spun', 'royal', 'aristocratic', 'centre', 'nearby', 'major', 'road', 'largest', 'river', 'canada', 'canadians', 'blues', 'etiquette', 'mandates', 'compliance', 'existing', 'regulations', 'corner', 'off', 'anybody', 'solicits', 'phone', 'mail', 'dough', 'viking', 'weapons', 'rivers', 'wetland', 'contexts', 'top', 'zinnias', 'crooked', 'stems', 'set', 'aside', 'ambidextrous', 'pickpockets', 'accomplish', 'truth', 'crisis', 'ants', 'carry', 'better', 'ant', 'hills', 'carl', 'lives', 'since', 'fall', 'blow', 'cold', 'pack', 'aid', 'men', 'control', 'nature', 'obeying', 'moral', 'code', 'possibilities', 'diagnosis', 'discouraging', 'overly', 'worried', 'cloverleaf', 'traffic', 'backed', 'overweight', 'charmer', 'slip', 'poison', 'anyones', 'tea', 'predispositions', 'tend', 'blunt', 'ear', 'fusion', 'mobile', 'wallets', 'ralph', 'controlled', 'stopwatch', 'bleachers', 'youll', 'delightful', 'approved', 'smile', 'jaw', 'operates', 'using', 'antagonistic', 'muscles', 'clumsy', 'customer', 'spilled', 'expensive', 'perfume', 'upgrade', 'status', 'everything', 'went', 'smooth', 'sheriff', 'diane', 'splurge', 'necklace', 'lighter', 'fluid', 'ha', 'wine', 'glass', 'heels', 'semiheights', 'prowler', 'ski', 'mask', 'disguise', 'article', 'opaque', 'needed', 'clarification', 'honor', 'gigantic', 'wasp', 'irvings', 'hat', 'getting', 'previous', 'regretted', 'paste', 'mustard', 'spread', 'lightly', 'scored', 'surface', 'angry', 'didnt', 'household', 'appliances', 'football', 'team', 'coach', 'thin', 'mayan', 'neoclassic', 'scholar', 'disappeared', 'surveying', 'ruins', 'avoid', 'puncturing', 'cutting', 'meats', 'overthrow', 'alien', 'officials', 'cooperated', 'consistently', 'loyalties', 'cooperative', 'unbroken', 'generations', 'patient', 'surgeon', 'recuperating', 'lengthy', 'operation', 'biotech', 'companies', 'risk', 'cartoon', 'features', 'tadpole', 'fools', 'bayed', 'flip', 'coin', 'goes', 'desperate', 'smash', 'lightbulbs', 'cash', 'diminish', 'although', 'alone', 'survive', 'noncontributory', 'plan', 'pay', 'worker', 'retires', 'goat', 'idly', 'ambled', 'farmyard', 'fortyseven', 'states', 'assign', 'provide', 'vehicles', 'employees', 'bus', 'driven', 'barb', 'burned', 'bonfire', 'al', 'received', 'joint', 'appointment', 'biology', 'engineering', 'departments', 'quietly', 'determined', 'printed', 'graphic', 'release', 'walked', 'sorrow', 'bring', 'message', 'hope', 'ointment', 'ready', 'shrugged', 'casually', 'subsequently', 'appealed', 'district', 'court', 'supreme', 'four', 'eggs', 'breakfast', 'heres', 'brief', 'tour', 'disaster', 'accordingly', 'cultivated', 'eccentricity', 'word', 'really', 'carol', 'tomorrow', 'arrange', 'stupid', 'jackass', 'poisoned', 'create', 'illuminating', 'examples', 'remove', 'pair', 'tweezers', 'possibility', 'anything', 'reassuring', 'fleecy', 'woolen', 'overalls', 'sound', 'jennifers', 'bugle', 'scared', 'antelope', 'preschooler', 'couldnt', 'verbalize', 'feelings', 'emergency', 'conditions', 'observers', 'speculated', 'revenge', 'tastes', 'funny', 'build', 'beverage', 'plant', 'cars', 'slightly', 'damaged', 'vietnamese', 'cuisine', 'exquisite', 'calcium', 'bones', 'strong', 'kindergarten', 'decorate', 'classrooms', 'holidays', 'taxicab', 'broke', 'jam', 'diversity', 'inclusion', 'achieve', 'purpose', 'handful', 'concert', 'unfortunately', 'demand', 'broccoli', 'cauliflower', 'young', 'contagious', 'diseases', 'cement', 'cubic', 'yards', 'mollusks', 'case', 'know', 'annual', 'grants', 'systems', 'substantial', 'eagerly', 'promptly', 'seven', 'clatter', 'twelve', 'tallyho', 'medieval', 'society', 'based', 'hierarchies', 'spherical', 'gifts', 'difficult', 'wrap', 'break', 'frequently', 'courier', 'clever', 'songs', 'coy', 'tragic', 'melodramatic', 'correct', 'execution', 'crucial', 'military', 'personnel', 'obey', 'government', 'orders', 'misprint', 'provoked', 'disclaimer', 'aluminum', 'silverware', 'flimsy', 'planned', 'parenthood', 'organizations', 'promote', 'depend', 'structure', 'personality', 'coyote', 'bobcat', 'hyena', 'wild', 'animals', 'clasp', 'screw', 'left', 'amoebas', 'constantly', 'distances', 'assure', 'continued', 'english', 'language', 'learners', 'interested', 'academic', 'writing', 'stag', 'surely', 'finds', 'fawn', 'aggressive', 'policeman', 'flag', 'thoughtless', 'motorists', 'vocabulary', 'symbols', 'artist', 'offensive', 'innocence', 'continental', 'drift', 'geological', 'theory', 'itemize', 'accounts', 'pledge', 'participate', 'nevadas', 'aquatic', 'competition', 'gunman', 'victim', 'cornered', 'gunpoint', 'lawyers', 'millionaires', 'mouse', 'scampered', 'across', 'evaluate', 'algebraic', 'expression', 'boston', 'ballet', 'overcame', 'funding', 'yogurt', 'hindu', 'ideology', 'cows', 'occasions', 'chase', 'ensue', 'catalyst', 'undoubtedly', 'reform', 'cory', 'attacked', 'determination', 'girl', 'drops', 'bourgeois', 'psychiatrist', 'disapproves', 'irish', 'youngsters', 'kippers', 'dig', 'potatoes', 'frost', 'contained', 'chlorine', 'stung', 'tornados', 'acres', 'farm', 'land', 'rifle', 'barrels', 'unwaveringly', 'head', 'logic', 'depends', 'entirely', 'plausibility', 'british', 'visualization', 'surplus', 'discount', 'deduce', 'authors', 'list', 'chicago', 'political', 'trump', 'president', 'past', 'alices', 'supervision', 'noteworthy', 'women', 'completely', 'equal', 'remaining', 'boil', 'moistened', 'uneasily', 'reality', 'acknowledge', 'though', 'sharp', 'dramatic', 'poignancy', 'cantaloupe', 'transparent', 'wood', 'athletic', 'activities', 'bleu', 'cheese', 'victor', 'prefers', 'swiss', 'eventually', 'proved', 'inexact', 'drawn', 'flew', 'whatever', 'faults', 'hypocrites', 'gangplank', 'another', 'speaker', 'ambiguous', 'gazed', 'approached', 'pick', 'patsy', 'assuredly', 'ideas', 'invaluable', 'recognized', 'jacket', 'trousers', 'guerrilla', 'bivouac', 'silent', 'cant', 'seem', 'locate', 'landmarks', 'equipped', 'die', 'boots', 'encountered', 'silky', 'coconuts', 'rice', 'beauty', 'blessing', 'hold', 'em', 'compact', 'mass', 'herdin', 'care', 'quote', 'swollen', 'bursting', 'rent', 'delivery', 'van', 'lift', 'shove', 'hello', 'anyone', 'pledging', 'far', 'song', 'gave', 'verbal', 'footnotes', 'playing', 'blame', 'game', 'vacation', 'cottage', 'yourself', 'resolution', 'hardly', 'neither', 'acknowledged', 'buddy', 'return', 'address', 'whatsoever', 'valiant', 'pitiable', 'hes', 'thaw', 'sounded', 'silly', 'airplanes', 'indicated', 'gorgeous', 'butterfly', 'nectar', 'asia', 'voices', 'deserve', 'heard', 'yes', 'definite', 'feed', 'importance', 'mother', 'wops', 'easier', 'shade', 'anyway', 'evident', 'mind', 'trendfollowing', 'methods', 'piece', 'engine', 'cowling', 'vanished', 'enjoyed', 'famous', 'author', 'literary', 'stake', 'dice', 'bluntly', 'outmoded', 'telephoning', 'began', 'rubbed', 'sleepily', 'paw', 'coward', 'useless', 'kindly', 'questions', 'outfielders', 'nurses', 'training', 'temptation', 'virtue', 'instinct', 'discipline', 'hell', 'choke', 'splendor', 'sorcery', 'horror', 'sank', 'sighing', 'asleep', 'dress', 'idiosyncrasies', 'pool', 'shut', 'trap', 'biscuit', 'chance', 'fulfilling', 'destiny', 'production', 'expectations', 'envelope', 'tied', 'wrist', 'sacrifice', 'chuck', 'touchdown', 'resulted', 'stoneware', 'tiles', 'rented', 'paid', 'scalloped', 'appealing', 'thank', 'dusting', 'herself', 'praises', 'individuals', 'generously', 'existed', 'length', 'typical', 'talked', 'powder', 'canister', 'cards', 'collie', 'wirehaired', 'terrier', 'turning', 'conflict', 'thrusting', 'validated', 'school', 'districts', 'attack', 'copy', 'gun', 'ammo', 'nor', 'fell', 'joins', 'maryland', 'bulllike', 'muscle', 'rule', 'bare', 'floorboards', 'tale', 'tails', 'comrades', 'dead', 'adequate', 'compensation', 'indispensable', 'eye', 'inward', 'outward', 'someone', 'reasonably', 'trustworthy', 'bay', 'female', 'dogs', 'encourage', 'exercise', 'benefits', 'father', 'six', 'ago', 'says', 'hows', 'strike', 'foul', 'works', 'impersonal', 'mechanism', 'animal', 'mealynosed', 'boost', 'helpful', 'inadequate', 'pitched', 'forth', 'bench', 'drunkenness', 'tolerated', 'deceitful', 'underfoot', 'taxpayer', 'householder', 'landlord', 'anchor', 'awkward', 'maam', 'chorused', 'heartily', 'looks', 'heap', 'prepare', 'obvious', 'disrepair', 'wasnt', 'symmetrical', 'whatre', 'gonna', 'asked', 'admire', 'observe', 'regulative', 'norms', 'governing', 'subgroups', 'roles', 'persons', 'trash', 'anothers', 'bites', 'eased', 'applying', 'liquid', 'bluing', 'pale', 'whiskey', 'seller', 'understood', 'teased', 'bit', 'glossy', 'teems', 'romance', 'adventure', 'compose', 'uncomfortable', 'oh', 'midnight', 'tired', 'im', 'sorry', 'search', 'resistance', 'thermometers', 'bury', 'uniforms', 'austere', 'racy', 'guerrillas', 'racing', 'toward', 'visibly', 'worse', 'wage', 'war', 'television', 'heritage', 'shrinking', 'faster', 'collusion', 'smolderingly', 'larger', 'leave', 'handymancarpenter', 'confabulation', 'determine', 'assistant', 'mopped', 'sponges', 'redcoats', 'rabbits', 'angel', 'deep', 'pessimism', 'atomic', 'nucleus', 'honest', 'vital', 'detail', 'suspect', 'shed', 'rust', 'marks', 'nora', 'imagine', 'wheels', 'dug', 'therapy', 'salary', 'reached', 'ten', 'thousand', 'mark', 'exposed', 'velocity', 'jet', 'knew', 'invoked', 'technology', 'delusional', 'drew', 'breath', 'playin', 'ball', 'strap', 'photochemical', 'exchange', 'phase', 'ive', 'bathe', 'choice', 'equations', 'bluejay', 'building', 'boring', 'superb', 'sleeping', 'pill', 'perhaps', 'mile', 'sit', 'history', 'persistently', 'pursued', 'drove', 'collared', 'joking', 'stopped', 'everyone', 'gathered', 'chasing', 'cloud', 'foolish', 'appetite', 'improved', 'quieted', 'chemical', 'procaine', 'penicillin', 'someplace', 'polished', 'windshield', 'underwriting', 'trips', 'car', 'crashed', 'wherere', 'takin', 'ramifications', 'enormous', 'lacerate', '', 'congregation', 'boiled', 'drain', 'wobble', 'weave', 'motivates', 'behavior', 'defiantly', 'slug', 'torn', 'half', 'stirrupguard', 'thrower', 'flame', 'hey', 'shouted', 'projects', 'several', 'nobodys', 'fault', 'suddenly', 'reflexes', 'section', 'welcomed', 'auditors', 'wife', 'contentedly', 'ballets', 'opera', 'beginning', 'indeed', 'bereft', 'occupied', 'landbased', 'radar', 'happily', 'bounds', 'navigate', 'honey', 'establish', 'censorship', 'vaguely', 'aware', 'sluicing', 'true', 'selection', 'fool', 'patiently', 'backgrounds', 'surprising', 'trait', 'ballplayer', 'groom', 'died', 'cop', 'citizen', 'brings', 'peryear', 'mighty', 'low', 'helps', 'loud', 'pulsing', 'glow', 'cigarette', 'bigger', 'bombs', 'future', 'trial', 'balloons', 'afloat', 'waited', 'booed', 'crowd', 'thats', 'notices', 'suggestion', 'aligning', 'shawls', 'bubble', 'shes', 'diet', 'nevertheless', 'inherited', 'downstairs', 'loaded', 'tray', 'lavishly', 'seekers', 'trying', 'theres', 'illness', 'hurt', 'earnestly', 'urged', 'ceasefire', 'consumers', 'carried', 'cage', 'pigeons', 'pollution', 'america', 'lets', 'safer', 'managed', 'mad', 'sober', 'otherwise', 'assignment', 'desegregate', 'communism', 'sundown', 'reply', 'wants', 'deed', 'named', 'period', 'full', 'charlies', 'dishes', 'retouching', 'tongue', 'hotel', 'owner', 'clerks', 'flickered', 'none', 'ask', 'less', 'origin', 'automobile', 'practices', 'drifted', 'kayo', 'kill', 'leisure', 'dollarandcents', 'limit', 'selfs', 'integrity', 'biggest', 'concern', 'facts', 'tan', 'whisper', 'trucks', 'office', 'claimed', 'attribute', 'accessed', 'shoot', 'ripping', 'hum', 'gurgle', 'surprise', 'fat', 'loose', 'rolls', 'beneath', 'shirt', 'program', 'socialized', 'swung', 'naturally', 'curly', 'runs', 'thrived', 'energy', 'levels', 'hole', 'belong', 'professional', 'baseball', 'plunged', 'woods', 'beyond', 'advisement', 'contribute', 'suitably', 'lighted', 'commonplace', 'excited', 'identify', 'choreographer', 'arbitrate', 'accident', 'murder', 'suicide', 'translated', 'spoil', 'candy', 'treats', 'capital', 'cowboy', 'breed', 'cattle', 'magpies', 'dyeing', 'waxing', 'gassing', 'say', 'guns', 'captured', 'overplayed', 'dad', 'lived', 'joined', 'sizzled', 'repugnant', 'allpurpose', 'mugs', 'cups', 'shivering', 'clothes', 'trifle', 'gaudy', 'leaflet', 'enclosed', 'letter', 'ignores', 'guidebook', 'drive', 'shame', 'declared', 'tool', 'lathe', 'suppose', 'altogether', 'surprisingly', 'approach', 'decide', 'ladys', 'unmagnified', 'bugged', 'utter', 'misery', 'desolation', 'cabinet', 'headache', 'blew', 'ditches', 'air', 'warmish', 'shucks', 'liberation', 'veterinarian', 'provision', 'contingency', 'swing', 'arm', 'courtyard', 'magnificently', 'decorated', 'meant', 'spirit', 'matter', 'possessed', 'religion', 'becomes', 'integrated', 'recipe', 'okay', 'thatll', 'plenty', 'single', 'permit', 'somebody', 'decides', 'pointed', 'reasons', 'disappointing', 'shattered', 'b', 'dive', 'compare', 'notes', 'flood', 'gyrocompass', 'heading', 'knows', 'campus', 'owns', 'films', 'jane', 'earn', 'ego', 'involves', 'displacement', 'form', 'assail', 'actually', 'developed', 'heck', 'dirt', 'spectacular', 'shaky', 'hen', 'nested', 'key', 'device', 'quackery', 'lead', 'plane', 'fivehundred', 'pound', 'punishment', 'bother', 'rasped', 'fist', 'aimless', 'livestock', 'tended', 'routinely', 'lucky', 'kids', 'wised', 'figure', 'remains', 'situation', 'perils', 'sweetheart', 'reportorial', 'gleam', 'ole', 'childhood', 'known', 'knives', 'answers', 'wildly', 'paranoid', 'keys', 'handy', 'cracked', 'wheat', 'cornmeal', 'fabulous', 'teach', 'kneeling', 'tie', 'shoelaces', 'networks', 'sex', 'dollarsandcents', 'basis', 'slapped', 'thighs', 'dried', 'rumen', 'bacteria', 'conformists', 'barbaric', 'rides', 'tame', 'mostly', 'grotesque', 'tall', 'space', 'cinematic', 'twenty', 'fifty', 'specialty', 'besides', 'short', 'hed', 'cloudburst', 'sympathetically', 'understand', 'cereal', 'likes', 'feverishly', 'stimulates', 'inhibitor', 'greatest', 'show', 'smart', 'aweinspiring', 'apples', 'ices', 'bills', 'homemade', 'sauerkraut', 'served', 'hafta', 'nasty', 'exultantly', 'hurry', 'werent', 'transact', 'fights', 'sprang', 'quickly', 'squelched', 'geeing', 'hawing', 'forever', 'dingo', 'mystery', 'invade', 'having', 'miserable', 'arent', 'thief', 'discovered', 'twentyfive', 'sheik', 'replied', 'remembered', 'youth', 'feel', 'rely', 'exchanged', 'autographs', 'virus', 'infection', 'scream', 'wed', 'side', 'halfinch', 'narrower', 'biblical', 'scholars', 'argue', 'rushing', 'attaching', 'controllers', 'turbulent', 'tides', 'decrease', 'temptations', 'merely', 'satisfy', 'prevent', 'flat', 'falls', 'toe', 'injuries', 'bullet', 'world', 'firecrackers', 'illegal', 'postdate', 'check', 'explains', 'unidirectional', 'tragedy', 'presumes', 'configuration', 'heavier', 'anticipated', 'todayll', 'goodnews', 'truly', 'marvel', 'oclock', 'level', 'object', 'village', 'crossroads', 'scowled', 'flowers', 'humor', 'imagined', 'snatched', 'savagely', 'fan', 'genre', 'reminiscence', 'industry', 'interest', 'safety', 'farther', 'picket', 'cookedover', 'oatmeal', 'stimulating', 'discussions', 'attention', 'lovely', 'whorls', 'chortled', 'wide', 'gateway', 'panic', 'merrily', 'manage', 'end', 'butcher', 'block', 'whispered', 'luck', 'oysters', 'pearls', 'givin', 'knowed', 'strippers', 'kissed', 'tenderness', 'thomas', 'clamp', 'solves', 'pills', 'vitaminandiron', 'compound', 'weakness', 'leadership', 'purposely', 'fog', 'prevented', 'arriving', 'whatshisname', 'sunburn', 'rather', 'hopeless', 'advised', 'hospitalization', 'aloud', 'explanation', 'partly', 'especially', 'knitted', 'fabrics', 'travelled', 'gay', 'wait', 'snarled', 'overhead', 'immediately', 'deputy', 'demanded', 'parttime', 'hire', 'rabbit', 'punch', 'redoubled', 'stop', 'science', 'shapes', 'bathtubs', 'fiddles', 'screeched', 'piano', 'tinkled', 'fiercest', 'false', 'surfeit', 'sector', 'nick', 'closet', 'lists', 'tables', 'barrage', 'hypotheticals', 'optimism', 'unjustified', 'battle', 'impossible', 'bureaucracy', 'aversion', 'initially', 'mix', 'privations', 'endurance', 'pulled', 'leg', 'outfit', 'masters', 'craft', 'blue', 'suspiciously', 'earlier', 'print', 'fiction', 'consider', 'couples', 'visiting', 'provides', 'sampling', 'census', 'course', 'tunafish', 'sandwich', 'glorified', 'hero', 'crude', 'ladder', 'wooden', 'decided', 'vividly', 'conceived', 'dream', 'ugly', 'leopards', 'increasing', 'tempo', 'product', 'deductible', 'wherever', 'feasible', 'mine', 'cassandra', 'momma', 'targets', 'successfully', 'knocked', 'traveling', 'rush', 'whats', 'crawling', 'forced', 'erect', 'nathan', 'zip', 'chest', 'ace', 'fails', 'contrast', 'color', 'aw', 'guys', 'post', 'ya', 'summertime', 'supper', 'outside', 'natural', 'yall', 'wanna', 'outlawed', 'architectural', 'deployment', 'certainly', 'wouldnt', 'chips', 'seasons', 'conscious', 'middle', 'moved', 'selling', 'agricultural', 'fertilizer', 'stuff', 'anesthesia', 'applied', 'prosecuting', 'attorney', 'picking', 'north', 'taxes', 'today', 'normally', 'tried', 'winner', 'implement', 'tree', 'pit', 'daily', 'newspaper', 'influence', 'shale', 'whether', 'physical', 'republican', 'oranges', 'timely', 'nicely', 'weeks', 'diving', 'remembers', 'loser', 'beware', 'spoilers', 'visited', 'll', 'hopefully', 'graduate', 'royalties', 'sharing', 'cornea', 'transplants', 'party', 'apps', 'average', 'loyalty', 'russias', 'threat', 'stretched', 'front', 'treadmills', 'burials', 'happen', 'during', 'robbed', 'bundle', 'newspapers', 'troops', 'deploy', 'promise', 'sports', 'placed', 'actual', 'safe', 'hadnt', 'background', 'east', 'explore', 'exploit', 'courtroom', 'materials', 'refund', 'support', 'smarter', 'thinking', 'distancing', 'upcoming', 'event', 'type', 'camping', 'classics', 'rid', 'inside', 'automatic', 'nineteen', 'hundred', 'sixty', 'hobbies', 'movie', 'buff', 'baby', 'appropriate', 'topic', 'bat', 'exploiting', 'stereotypes', 'academics', 'hospital', 'sewed', 'term', 'planning', 'selective', 'raised', 'bothered', 'different', 'favorite', 'win', 'playoffs', 'forgiving', 'grocery', 'jury', 'month', 'sundays', 'anymore', 'shouldnt', 'qualified', 'childs', 'markups', 'regulated', 'theyve', 'american', 'july', 'throw', 'motivated', 'reports', 'invasion', 'parts', 'myself', 'jail', 'employs', 'favor', 'teenager', 'adjusted', 'enjoys', 'dollars', 'contributors', 'grade', 'nightmare', 'watching', 'subtitle', 'originally', 'california', 'continue', 'because', 'abuses', 'couple', 'wanted', 'trip', 'overseas', 'proven', 'grandchildren', 'spots', 'shell', 'stump', 'actively', 'dependency', 'principle', 'quit', 'central', 'groceries', 'player', 'tournament', 'basic', 'recycle', 'scary', 'trout', 'kinds', 'fail', 'rifles', 'inept', 'cleaning', 'quilted', 'changed', 'views', 'won', 'games', 'legitimate', 'pecan', 'isnt', 'pacific', 'heights', 'lesson', 'knowledgeable', 'match', 'boxes', 'fulfilled', 'lady', 'impact', 'generally', 'cousins', 'gang', 'detroit', 'lions', 'difficulty', 'engines', 'excellent', 'serious', 'gig', 'monthly', 'places', 'opportune', 'arises', 'baked', 'arctic', 'mens', 'report', 'built', 'mountain', 'comments', 'donate', 'burma', 'deer', 'seafood', 'stew', 'collar', 'flu', 'definitely', 'sanity', 'testing', 'manually', 'hawaii', 'square', 'sensor', 'younger', 'start', 'glad', 'condo', 'surprised', 'areas', 'embracing', 'distraction', 'sets', 'cradle', 'sturdy', 'handgun', 'forgot', 'track', 'calling', 'rats', 'mice', 'garages', 'friendship', 'signal', 'established', 'neighborhoods', 'rainy', 'ordinary', 'person', 'analytics', 'rejoice', 'interesting', 'translate', 'certified', 'license', 'poorly', 'musician', 'sort', 'maintains', 'composure', 'prince', 'persia', 'depending', 'content', 'teachers', 'union', 'contract', 'provisions', 'questioned', 'absolutely', 'weird', 'everybody', 'picture', 'perfect', 'video', 'hazardous', 'waste', 'sites', 'responsibility', 'toys', 'wings', 'dimly', 'lit', 'area', 'termination', 'scoring', 'valuable', 'theoretically', 'believe', 'dallas', 'method', 'size', 'ground', 'worth', 'sewing', 'considerable', 'investment', 'gods', 'voicemail', 'includes', 'authentic', 'japanese', 'voiceover', 'produces', 'burning', 'cute', 'd', 'theyd', 'drink', 'screaming', 'avocado', 'families', 'scouts', 'postpone', 'admitting', 'gays', 'pets', 'company', 'miss', 'intellectual', 'stimulation', 'pioneer', 'philp', 'vector', 'bottlenecks', 'closures', 'losses', 'restaurants', 'scent', 'extract', 'clubs', 'prey', 'management', 'purchase', 'allusion', 'whistle', 'texas', 'learning', 'limits', 'ought', 'afford', 'able', 'apartment', 'significantly', 'christmas', 'mandatory', 'joyful', 'measuring', 'inflation', 'properly', 'finally', 'pursuing', 'nursing', 'degree', 'posh', 'accent', 'choose', 'joy', 'insulation', 'except', 'country', 'parents', 'iron', 'fortunate', 'expire', 'eleventh', 'tested', 'colorado', 'clapped', 'jogged', 'darned', 'styles', 'shows', 'piles', 'role', 'hooked', 'suburb', 'girls', 'repair', 'meatless', 'meals', 'destroyed', 'willing', 'spare', 'pinpoint', 'preparation', 'prefer', 'stuck', 'aerobics', 'oldest', 'supportive', 'airway', 'protection', 'coats', 'therere', 'pulleys', 'reluctantly', 'fields', 'windows', 'everywhere', 'multiple', 'vegetables', 'organization', 'retool', 'laps', 'goal', 'tv', 'wrong', 'held', 'portion', 'machines', 'reunion', 'drug', 'rehabilitation', 'delusion', 'persists', 'donated', 'charities', 'summary', 'department', 'recycling', 'pictures', 'avoidable', 'salsa', 'peanuts', 'agreed', 'november', 'hear', 'interaction', 'mechanical', 'engineer', 'smell', 'currently', 'jazz', 'stepfathers', 'england', 'handguns', 'intuitive', 'retire', 'freeze', 'listen', 'opinions', 'organized', 'tap', 'linux', 'maternal', 'canvas', 'painting', 'rome', 'behind', 'rendering', 'rafting', 'familiar', 'noises', 'returned', 'tech', 'leaning', 'towards', 'park', 'hilly', 'jobs', 'steamed', 'copyright', 'iraq', 'fluorescent', 'colors', 'fixing', 'extremely', 'bow', 'hunting', 'forty', 'neon', 'islanders', 'sleep', 'prime', 'beard', 'daddy', 'realized', 'stay', 'budget', 'started', 'german', 'reduce', 'prices', 'percent', 'allowable', 'disclosures', 'stones', 'runes', 'checkpoints', 'guilty', 'devil', 'alike', 'cried', 'thousands', 'stars', 'bunch', 'moneys', 'fight', 'station', 'swamp', 'beat', 'per', 'insecticides', 'page', 'metropolitan', 'restaurant', 'explored', 'hourly', 'tonight', 'realize', 'zoology', 'voting', 'watched', 'pour', 'absurdity', 'lately', 'bacon', 'canyon', 'collisions', 'afternoons', 'daughter', 'slice', 'wind', 'dud', 'carp', 'paint', 'include', 'commands', 'troubled', 'relocated', 'infants', 'starting', 'hurricanes', 'kansas', 'annoyed', 'anaesthesia', 'directors', 'example', 'weapon', 'husband', 'kilometers', 'stash', 'quiet', 'virginia', 'library', 'vitamin', 'essential', 'itemized', 'bathroom', 'pavillion', 'weather', 'tipping', 'bolt', 'career', 'supposed', 'cents', 'chambers', 'fifteen', 'rarity', 'concentrating', 'super', 'pressed', 'button', 'victims', 'enjoyable', 'bringing', 'heart', 'moving', 'florida', 'bankrupt', 'carlos', 'grew', 'south', 'businesses', 'payment', 'sucks', 'dozen', 'consequence', 'friday', 'double', 'graying', 'fourth', 'expect', 'folks', 'stairs', 'associates', 'junk', 'wherewithal', 'discuss', 'cable', 'duplex', 'jig', 'scroll', 'cassette', 'tapes', 'mac', 'channel', 'ill', 'tuesday', 'wednesday', 'spoiler', 'alert', 'desk', 'heyve', 'amazed', 'unjust', 'amount', 'arizona', 'happy', 'whos', 'running', 'boneless', 'adjust', 'cannon', 'together', 'active', 'ages', 'somebodys', 'antsy', 'brilliant', 'deductor', 'weight', 'seizure', 'prevention', 'bridge', 'honour', 'whine', 'gals', 'poignant', 'realistically', 'played', 'choral', 'appeal', 'hill', 'void', 'eater', 'bet', 'barge', 'somewhere', 'entertainment', 'atlanta', 'boilerplate', 'default', 'lightweight', 'seeing', 'natures', 'equally', 'tearjerker', 'concerned', 'relations', 'oriented', 'tweak', 'non', 'canned', 'woodworking', 'mastery', 'earns', 'juror', 'enjoying', 'pass', 'inspection', 'minivan', 'invasive', 'paying', 'behold', 'outrageously', 'priced', 'babies', 'brand', 'bike', 'foot', 'san', 'antonio', 'basement', 'recycled', 'items', 'utilities', 'fix', 'recipes', 'recorded', 'hearing', 'driving', 'parking', 'choicest', 'excerpts', 'threw', 'homosexuals', 'bags', 'married', 'neat', 'hyperinflation', 'penny', 'tomatoes', 'chilis', 'weekdays', 'ins', 'laundry', 'daughters', 'mermaid', 'tourist', 'dull', 'houston', 'testrun', 'classbiased', 'doin', 'nearathand', 'wellkept', 'mothersinlaw', 'redhanded', 'underage', 'rape', 'thirtyfive', 'goin', 'finefeathered', 'oilfield', 'roughtough', 'antislavery', 'rockandroll', 'fuss', 'disturb', 'drawled', 'indirectly', 'voted', 'bush', 'wok', 'figured', 'overblown', 'led', 'concentrate', 'criminal', 'theyll', 'alcohol', 'unique', 'coming', 'gym', 'harmful', 'perpetual', 'facilities', 'rooms', 'lumping', 'helping', 'accumulate', 'profit', 'fly', 'ways', 'towns', 'dump', 'busy', 'shorts', 'item', 'veto', 'increase', 'assistants', 'relatively', 'zipper', 'innovation', 'android', 'devastating', 'hemp', 'admit', 'ridiculous', 'someday', 'meal', 'reflected', 'current', 'accused', 'filtering', 'centers', 'gland', 'prisons', 'overcrowded', 'inspections', 'blakes', 'pleased', 'university', 'moderate', 'rinky', 'dink', 'sequence', 'altered', 'international', 'values', 'write', 'repeat', 'shells', 'korea', 'allowed', 'receive', 'defined', 'sixth', 'grader', 'classic', 'styling', 'whipping', 'simply', 'mining', 'dementia', 'visions', 'infected', 'mill', 'tomato', 'cccountability', 'remedy', 'andy', 'luckily', 'tuition', 'vietnam', 'diego', 'league', 'rebuilt', 'holy', 'sees', 'startles', 'elses', 'taste', 'network', 'warehouse', 'pepper', 'plants', 'weekend', 'shot', 'perfectly', 'illinois', 'nation', 'suburbs', 'mormon', 'crime', 'wise', 'knowing', 'susan', 'italians', 'argentina', 'starts', 'purdue', 'pant', 'suit', 'college', 'hitting', 'closer', 'indoors', 'hide', 'shish', 'kabob', 'licenses', 'rub', 'chops', 'liberally', 'olive', 'adorable', 'award', 'believer', 'parent', 'sooner', 'recyclables', 'dads', 'continentals', 'offer', 'alleviated', 'seventy', 'flights', 'diverted', 'doubt', 'boat', 'salesman', 'minute', 'waiting', 'self', 'daycare', 'brownwood', 'importantly', 'journey', 'cliche', 'crazy', 'limited', 'reporting', 'farmhouse', 'cultures', 'terrible', 'exact', 'storm', 'freezing', 'fast', 'collect', 'francisco', 'touring', 'uphold', 'positions', 'defeated', 'georgia', 'carpeting', 'gross', 'retirement', 'reach', 'sad', 'kentucky', 'grass', 'greener', 'coal', 'regions', 'siberia', 'schools', 'successive', 'affection', 'personally', 'lifting', 'recession', 'dragging', 'fulfill', 'mission', 'visionary', 'filled', 'eats', 'sorts', 'dodges', 'fashioned', 'painted', 'motor', 'homes', 'americans', 'peoples', 'attitudes', 'gunfire', 'itll', 'strangely', 'varied', 'campsite', 'flounder', 'salmon', 'steaks', 'alex', 'calculating', 'shepherds', 'consistency', 'riveting', 'booked', 'pollutes', 'groundwater', 'free', 'unusually', 'scholarly', 'monarch', 'worst', 'turbulence', 'destroyer', 'employ', 'click', 'freelancer', 'secretary', 'headset', 'genres', 'metric', 'putting', 'indoor', 'campaigns', 'situations', 'behave', 'ferry', 'wonderful', 'exciting', 'bar', 'messed', 'subscriptions', 'trainable', 'disposition', 'wholl', 'inconvenienced', 'sounds', 'horrible', 'farthest', 'infatuated', 'skunk', 'governor', 'singing', 'oregon', 'saying', 'teaching', 'ours', 'aids', 'tools', 'wonder', 'series', 'cover', 'shots', 'ambiance', 'broadcasting', 'officer', 'launched', 'punches', 'unfortunate', 'mistakes', 'omission', 'outright', 'lies', 'driver', 'tabloids', 'weekly', 'listening', 'radio', 'seat', 'statements', 'followed', 'crying', 'beef', 'user', 'robbing', 'biodegrade', 'recreation', 'center', 'cousin', 'austin', 'ross', 'sell', 'million', 'distant', 'galaxies', 'information', 'wanting', 'taught', 'teams', 'compete', 'figurines', 'urges', 'anticipation', 'stiff', 'flute', 'obligation', 'planner', 'press', 'intrusion', 'anythingt', 'physics', 'mountains', 'cabin', 'safely', 'thirds', 'fourths', 'utah', 'schedule', 'lenient', 'northwest', 'alderman', 'endorsed', 'relax', 'minutes', 'jets', 'conversational', 'plunge', 'circumcision', 'linked', 'various', 'royals', 'sticky', 'grainy', 'mixed', 'emotions', 'disgusting', 'talker', 'bargains', 'violent', 'crimes', 'privacy', 'towed', 'fixed', 'fourteen', 'wet', 'respects', 'brakes', 'borrowed', 'asking', 'pin', 'male', 'cheaper', 'plaques', 'involvement', 'conjured', 'totalitarian', 'verge', 'western', 'liberal', 'character', 'filtered', 'distorted', 'uncle', 'bobs', 'roman', 'catholic', 'concept', 'row', 'plays', 'stand', 'ceremony', 'intimate', 'members', 'possibly', 'wins', 'asians', 'traveled', 'fairly', 'cheaply', 'abnormal', 'pulling', 'bellboy', 'hands', 'babysitter', 'mines', 'fully', 'eighty', 'hangings', 'ownership', 'predators', 'plans', 'joints', 'magazine', 'baker', 'retailers', 'disturbing', 'skip', 'everybodys', 'rattling', 'excuses', 'appeals', 'dining', 'clash', 'police', 'spending', 'mathematics', 'coverage', 'trend', 'schedules', 'therapist', 'administered', 'refinery', 'idle', 'conveyed', 'uncertainty', 'rebellion', 'popular', 'youd', 'private', 'patterns', 'reporter', 'target', 'poverty', 'sister', 'sixteen', 'dollar', 'closed', 'opinion', 'litter', 'precision', 'choking', 'hazard', 'rank', 'concepts', 'chinese', 'interior', 'walls', 'curb', 'roses', 'readers', 'courts', 'differing', 'magazines', 'pricy', 'debated', 'foundational', 'blocks', 'entrepreneur', 'classroom', 'stalin', 'dictator', 'strategy', 'creation', 'refinement', 'crochet', 'basin', 'survivors', 'amazon', 'hated', 'backyard', 'dependent', 'counting', 'invented', 'barking', 'gates', 'resign', 'noticed', 'insurgents', 'exaggerate', 'battlefield', 'extend', 'weeds', 'announced', 'combat', 'wildfires', 'judicial', 'cloudy', 'dreary', 'sketch', 'commercials', 'appearing', 'variance', 'modified', 'principal', 'loiter', 'reserved', 'issues', 'fit', 'circumstance', 'clicking', 'staying', 'retro', 'strange', 'relative', 'between', 'unlike', 'jumps', 'yapping', 'growth', 'infrastructure', 'ultimate', 'maker', 'horse', 'focus', 'solar', 'satellites', 'giants', 'graduated', 'substance', 'divide', 'satan', 'rejoiced', 'focal', 'pots', 'primary', 'democracy', 'classes', 'harassing', 'delicate', 'cruel', 'details', 'provided', 'buckets', 'expanding', 'consulting', 'publishing', 'tweaked', 'odd', 'urban', 'psychiatrists', 'verdict', 'united', 'reacted', 'ensure', 'materialized', 'newsletter', 'send', 'builds', 'roads', 'border', 'impress', 'columns', 'winter', 'anywhere', 'rolled', 'gut', 'summer', 'northern', 'indiana', 'clerical', 'pounds', 'comfortable', 'buying', 'options', 'progressive', 'fuse', 'fancy', 'profession', 'band', 'midwest', 'counselor', 'rains', 'enthusiastic', 'flock', 'circling', 'stood', 'begin', 'outgoing', 'healing', 'bakes', 'delicious', 'jumping', 'policy', 'freeloaders', 'corps', 'stores', 'revenue', 'raise', 'shooting', 'tollway', 'highly', 'gaussian', 'salt', 'eerie', 'metal', 'detectors', 'steal', 'delegates', 'interviews', 'russia', 'leader', 'included', 'adds', 'delivers', 'puts', 'hospitals', 'ton', 'bear', 'illustrated', 'strokes', 'recording', 'hasnt', 'committed', 'felony', 'americas', 'forties', 'lawsuit', 'claims', 'studied', 'daffodils', 'arts', 'presentations', 'mood', 'mentioned', 'prominently', 'attracted', 'gotten', 'scraps', 'cringes', 'heavily', 'launching', 'worthy', 'carrying', 'receptive', 'los', 'angeles', 'irrespective', 'convoys', 'retired', 'fence', 'bachelors', 'unemployment', 'traders', 'criminals', 'shepherd', 'explain', 'tear', 'textured', 'keeps', 'turf', 'pc', 'dragged', 'robberies', 'regulation', 'demographics', 'hank', 'williams', 'contest', 'map', 'remodeled', 'units', 'rehabilitated', 'nominal', 'productive', 'pants', 'curious', 'legal', 'baltimore', 'push', 'checkbooks', 'pull', 'shrimp', 'gulf', 'pregnant', 'owning', 'healed', 'mtv', 'upstairs', 'rights', 'buffalo', 'whim', 'bedrooms', 'oklahoma', 'fifties', 'oldies', 'hitch', 'card', 'offers', 'forward', 'chore', 'harder', 'mileage', 'thrilled', 'attacking', 'jogging', 'reversal', 'exactly', 'leaving', 'tablespoon', 'periods', 'roosevelt', 'typewriter', 'invisible', 'combination', 'sources', 'september', 'disadvantage', 'notion', 'pretend', 'cucbers', 'communications', 'upsetting', 'preferences', 'rangers', 'strikes', 'alabama', 'fighting', 'christmastime', 'slowdown', 'hoping', 'hysterical', 'winning', 'internal', 'electronic', 'utilize', 'trinket', 'legend', 'property', 'circuit', 'william', 'kennedy', 'smith', 'immigration', 'types', 'pest', 'settled', 'smoking', 'premis', 'comedies', 'experiences', 'worry', 'thrill', 'deeper', 'overnight', 'knit', 'grandkids', 'ninety', 'bricks', 'setting', 'stress', 'refuse', 'sides', 'minimum', 'suspenseful', 'voluntarily', 'nonfiction', 'basically', 'expert', 'foundation', 'jose', 'eighteen', 'inches', 'comparable', 'former', 'respond', 'biting', 'dragon', 'follow', 'wal', 'mart', 'vehicle', 'upstate', 'cities', 'letters', 'applications', 'universities', 'emotional', 'shortly', 'taco', 'grandes', 'passage', 'civil', 'external', 'aking', 'profits', 'wipe', 'tendency', 'toil', 'fame', 'soccer', 'usa', 'routine', 'deploying', 'node', 'ranking', 'barbecues', 'mexican', 'lousy', 'drunk', 'drivers', 'incentive', 'base', 'paints', 'kingdom', 'aftermath', 'stipulation', 'plunger', 'stations', 'braised', 'egg', 'funded', 'introduced', 'ranks', 'carefully', 'considered', 'clear', 'arose', 'settlement', 'avoids', 'chores', 'appreciate', 'races', 'quavered', 'sew', 'charm', 'kidnapped', 'mishap', 'ahead', 'choreographers', 'terrorist', 'attacks', 'shower', 'pierce', 'anthony', 'fused', 'trade', 'losers', 'apparent', 'boyd', 'exploitation', 'african', 'continent', 'bittersweet', 'dying', 'proponent', 'damn', 'mike', 'gunner', 'convoy', 'sensing', 'decent', 'voter', 'exploited', 'composer', 'stationary', 'jurors', 'hotels', 'manager', 'reflection', 'pizza', 'delivered', 'volunteer', 'rugby', 'royalty', 'trembled', 'judo', 'steroids', 'professors', 'vocal', 'dropped', 'generation', 'access', 'coiling', 'ropes', 'phones', 'tense', 'moms', 'lightning', 'prejudice', 'homeowner', 'treasurys', 'oiling', 'punishing', 'bleed', 'publics', 'counter', 'whales', 'weigh', 'tonnes', 'truck', 'costing', 'treat', 'remedial', 'reimbursed', 'europe', 'navy', 'albus', 'favored', 'fond', 'mysteries', 'gasket', 'diversion', 'inventory', 'market', 'dedicated', 'seconds', 'acting', 'billy', 'crystal', 'salesperson', 'recently', 'journalism', 'indonesia', 'norris', 'hostel', 'october', 'separate', 'lights', 'darks', 'labour', 'stupidly', 'senates', 'nancy', 'penalize', 'asteroid', 'everythings', 'justice', 'browning', 'deck', 'ferret', 'fished', 'dissatisfied', 'rhode', 'island', 'kitty', 'russell', 'ultimately', 'boyfriend', 'leads', 'uninsured', 'feedback', 'awful', 'adam', 'whatnot', 'lavish', 'premier', 'similar', 'regardless', 'oven', 'finished', 'appointments', 'calendar', 'exploits', 'tickets', 'bugs', 'nineties', 'sign', 'suffered', 'similarly', 'telling', 'initial', 'offerings', 'neighbors', 'rejected', 'supporters', 'broad', 'rocky', 'rate', 'emitted', 'snapped', 'soldier', 'employed', 'automakers', 'rationalizing', 'glasses', 'owe', 'drastic', 'accept', 'fantasy', 'dire', 'gentleman', 'nights', 'contact', 'reserves', 'pepsi', 'cans', 'effective', 'modern', 'fellowships', 'controversial', 'pertains', 'sanction', 'turkey', 'incursion', 'hers', 'aggravation', 'beautify', 'session', 'lawyer', 'tiger', 'insight', 'exclusions', 'partners', 'numbers', 'thrown', 'killer', 'stick', 'clogs', 'editor', 'writer', 'articles', 'latex', 'minorities', 'foyer', 'quarantine', 'nursery', 'commentaries', 'washington', 'portuguese', 'speakers', 'fish', 'grand', 'outrageous', 'leery', 'cranes', 'ceo', 'corporation', 'overturned', 'closely', 'load', 'balancer', 'application', 'wrecked', 'random', 'lifetime', 'ads', 'loan', 'totaled', 'stays', 'missionaries', 'fund', 'veteran', 'celebration', 'shamelessly', 'turtle', 'deaths', 'dolphin', 'dental', 'plus', 'raspy', 'investigative', 'raising', 'exclusively', 'standpoint', 'concentration', 'deployments', 'payroll', 'battering', 'tuna', 'trusted', 'presidency', 'interstate', 'empty', 'basketballs', 'freud', 'slams', 'choir', 'scheme', 'dating', 'fellow', 'ripped', 'knob', 'services', 'programming', 'graffiti', 'primarily', 'exit', 'reserve', 'wish', 'alive', 'deploys', 'template', 'computing', 'curriculum', 'experienced', 'statement', 'invalid', 'bonuses', 'streaming', 'opening', 'senses', 'agreement', 'potential', 'builder', 'material', 'preapproved', 'unanimous', 'ruling', 'upheld', 'creative', 'psychoanalysis', 'cure', 'cramping', 'condoms', 'bastards', 'saturdays', 'humidity', 'respect', 'sloppy', 'protest', 'mechanically', 'inclined', 'nutrient', 'upset', 'scale', 'microns', 'mini', 'thirteen', 'candidate', 'inequality', 'centimeter', 'width', 'thumbnail', 'treasury', 'impressed', 'install', 'unlimited', 'godfathers', 'minds', 'religions', 'blessed', 'providing', 'cue', 'nationwide', 'tucked', 'stalls', 'belonged', 'chickens', 'ineffective', 'squash', 'advocate', 'homeless', 'opponents', 'privatisation', 'failed', 'manipulating', 'novelty', 'maine', 'beer', 'execute', 'depressing', 'tempting', 'motivation', 'entry', 'baghdad', 'depressed', 'reteaching', 'cartons', 'messages', 'mirrors', 'institution', 'bin', 'fluffy', 'orchestra', 'archaic', 'lover', 'voters', 'provisional', 'ballot', 'consent', 'phrases', 'coined', 'bard', 'improve', 'highways', 'visa', 'howd', 'harvest', 'peppers', 'reduced', 'downstream', 'divisions', 'association', 'fee', 'source', 'pesticides', 'paris', 'soy', 'advisory', 'fixes', 'select', 'fantastic', 'orlando', 'bold', 'sick', 'advantages', 'passive', 'precedent', 'conflicts', 'hurting', 'squish', 'spain', 'distracted', 'replacing', 'stable', 'ponies', 'offering', 'aisle', 'china', 'wearing', 'nicer', 'upper', 'ok', 'minneapolis', 'exhausted', 'ohio', 'horrific', 'controller', 'apparently', 'feeds', 'diplomatic', 'engagement', 'totally', 'destroys', 'creating', 'disappoint', 'raises', 'headstone', 'precisely', 'dakota', 'terribly', 'ranch', 'plastic', 'community', 'loves', 'defense', 'technician', 'jog', 'electric', 'plea', 'bargaining', 'ties', 'transit', 'tarp', 'impose', 'tasting', 'ratio', 'u', 's', 'cared', 'pat', 'johnson', 'bolts', 'killed', 'cooker', 'variation', 'theater', 'ryan', 'struck', 'thousandth', 'pittsburgh', 'helped', 'relationship', 'administration', 'legs', 'seated', 'protective', 'itd', 'thanks', 'garland', 'prosecution', 'checkup', 'sitter', 'scholarship', 'modem', 'flags', 'stadium', 'emphasis', 'orphan', 'twentieth', 'eighteenth', 'grammatical', 'teases', 'gourmet', 'wondering', 'roommate', 'nose', 'grindstone', 'winds', 'blowing', 'educated', 'spaghetti', 'justify', 'bracket', 'alphabet', 'crunch', 'precise', 'skiing', 'pleasant', 'share', 'lincoln', 'gardener', 'acquaintance', 'italian', 'houses', 'absolute', 'certainty', 'burger', 'philosophical', 'passing', 'research', 'rates', 'arrive', 'frustrating', 'probation', 'competitive', 'insured', 'territory', 'june', 'recommend', 'zales', 'jewelry', 'attached', 'models', 'telemarketing', 'saginaw', 'massaged', 'temples', 'offenders', 'conservative', 'centimeters', 'imprisonment', 'relatives', 'pot', 'stove', 'criteria', 'warped', 'difficulties', 'dear', 'missed', 'presidents', 'pushing', 'mutual', 'stewing', 'reflecting', 'processing', 'jamaica', 'golfer', 'amazing', 'wasting', 'watering', 'arrested', 'weed', 'announce', 'maternity', 'duty', 'lake', 'interests', 'barbies', 'reduces', 'couches', 'lifesaver', 'littler', 'onions', 'bell', 'institutional', 'relate', 'designed', 'pockets', 'astounded', 'oaks', 'supervisor', 'convicted', 'romania', 'kiss', 'hassle', 'stealing', 'carolina', 'southern', 'solution', 'governed', 'exercising', 'deductions', 'eyeglasses', 'wondered', 'traditional', 'bill', 'infant', 'crib', 'towel', 'okra', 'sixteenth', 'rushes', 'cadillac', 'carpool', 'refute', 'fought', 'individually', 'mayor', 'rainfall', 'swimming', 'guatemala', 'surgery', 'electronics', 'advice', 'proud', 'terrorism', 'auto', 'religiously', 'mustang', 'venezuela', 'worlds', 'conspiracy', 'upgraded', 'voyages', 'starship', 'enterprise', 'laying', 'consistent', 'papers', 'particular', 'realizes', 'stage', 'carbon', 'independent', 'tells', 'medium', 'pan', 'regret', 'mornings', 'subjects', 'tub', 'pages', 'calms', 'recognize', 'southwest', 'pikes', 'peak', 'cookbook', 'collision', 'reported', 'prekindergarten', 'weighs', 'edited', 'ukraine', 'sufficient', 'moon', 'cancer', 'member', 'academy', 'senior', 'citizens', 'automobiles', 'mature', 'tries', 'blink', 'radiator', 'dresser', 'lottery', 'inefficient', 'patronizing', 'teenagers', 'august', 'earliest', 'gouging', 'tracks', 'santa', 'barbara', 'reaching', 'successful', 'harm', 'meters', 'cruise', 'miniature', 'situational', 'knee', 'keeping', 'sweepstakes', 'resolve', 'sixties', 'birmingham', 'realistic', 'overcook', 'practice', 'barrier', 'lifestyle', 'behaved', 'industrial', 'thanksgiving', 'pad', 'nervous', 'survey', 'echelons', 'inexpensive', 'cross', 'pollinate', 'bees', 'jumped', 'presidential', 'elections', 'shallows', 'dangerous', 'accurate', 'kick', 'stands', 'economics', 'statistics', 'sons', 'honestly', 'booger', 'undergraduate', 'signed', 'overcast', 'plates', 'tiddlywinks', 'elevator', 'dies', 'dances', 'wolves', 'libido', 'loses', 'nashville', 'shotgun', 'booklet', 'stepping', 'saving', 'lawn', 'mower', 'satisfied', 'conversion', 'sciences', 'director', 'voiceless', 'junior', 'achievement', 'label', 'housekeeping', 'worthwhile', 'snappers', 'builtin', 'lakes', 'vacuum', 'husbands', 'trumps', 'proposal', 'meditation', 'highway', 'concise', 'cooperate', 'yolk', 'semester', 'guide', 'atrocities', 'rockies', 'compared', 'computed', 'grateful', 'serving', 'insisted', 'voluntary', 'afghan', 'hound', 'chow', 'smaller', 'youngster', 'debts', 'storage', 'capacity', 'ozone', 'gasoline', 'obviously', 'yesterday', 'gardening', 'ring', 'qualify', 'forgotten', 'restrooms', 'studies', 'afghanistan', 'susceptible', 'testament', 'majoring', 'refugees', 'contracts', 'jazzercise', 'collecting', 'dust', 'pennsylvania', 'juries', 'unless', 'cooked', 'anytime', 'notice', 'complains', 'strips', 'chill', 'convict', 'exceed', 'tore', 'pianos', 'baylor', 'eucalyptus', 'introductory', 'subscription', 'hardwood', 'pools', 'tennis', 'float', 'quilt', 'becoming', 'commitment', 'prosecutor', 'murdered', 'responsibilities', 'laid', 'unfocussed', 'beavers', 'bend', 'treated', 'credible', 'finance', 'drawback', 'arlington', 'marry', 'pro', 'naps', 'surprises', 'cello', 'apart', 'throwing', 'demanding', 'farming', 'backing', 'droids', 'cremation', 'republicans', 'dismayed', 'misses', 'chillier', 'climate', 'companion', 'declined', 'discourages', 'brian', 'employers', 'reviews', 'trove', 'released', 'obama', 'nfl', 'immeasurable', 'steak', 'hamburger', 'saucepan', 'acid', 'corrosion', 'subscribe', 'episode', 'accidents', 'discussing', 'governments', 'ruined', 'disconnected', 'adjusting', 'secure', 'manner', 'savings', 'thumb', 'cake', 'computers', 'maiden', 'shift', 'standard', 'overburdened', 'shiny', 'supported', 'recouped', 'fishing', 'retrospect', 'switch', 'priorities', 'expecting', 'stilled', 'heads', 'prompt', 'monster', 'africa', 'briefing', 'hopeful', 'chunk', 'mishandle', 'heal', 'amoral', 'rhino', 'poaching', 'rise', 'waking', 'vowing', 'floors', 'polyurethane', 'soda', 'congress', 'illusions', 'essentially', 'committee', 'envisioned', 'frozen', 'solid', 'metrics', 'environment', 'manning', 'dwelling', 'incidents', 'ounce', 'efficient', 'bucks', 'vs', 'redskins', 'west', 'hams', 'whered', 'efforts', 'amenities', 'sarcastic', 'hilarious', 'drinks', 'logical', 'extreme', 'destitute', 'primaries', 'plastics', 'acceptable', 'exponentially', 'qualifications', 'honda', 'fondue', 'cocaine', 'bust', 'camped', 'sand', 'discounts', 'transferred', 'aunts', 'uncles', 'till', 'abuse', 'planting', 'restful', 'pittsburg', 'weekends', 'pulley', 'laterally', 'charging', 'subaru', 'garment', 'fertilizers', 'olds', 'lasting', 'texan', 'exam', 'relevance', 'ranging', 'spends', 'loneliness', 'closest', 'pops', 'scene', 'losing', 'teacup', 'mixture', 'ivory', 'furniture', 'elaborate', 'millions', 'ban', 'crept', 'pleats', 'inefficiency', 'location', 'cholesterol', 'headlines', 'council', 'granddaddys', 'deducted', 'wander', 'penned', 'dialog', 'text', 'script', 'lyrics', 'rows', 'speaking', 'complete', 'axiom', 'brow', 'furrowed', 'wary', 'christian', 'feels', 'percentage', 'germany', 'bracing', 'hobbyist', 'app', 'azure', 'portal', 'madness', 'conscientious', 'anniversary', 'opposed', 'register', 'fairer', 'apologize', 'meanings', 'regency', 'collin', 'endowment', 'darn', 'excuse', 'leaped', 'picnic', 'pragmatic', 'nicest', 'ridged', 'nativity', 'trials', 'inevitable', 'snake', 'pedestrians', 'violated', 'whose', 'penalizes', 'complain', 'sadly', 'hail', 'mary', 'opportunity', 'dave', 'fox', 'cheeses', 'fruits', 'golfing', 'impressive', 'crafts', 'emergencies', 'pet', 'injured', 'familys', 'tallest', 'diesel', 'fuel', 'judgment', 'dispelled', 'hike', 'athlete', 'ignore', 'deterrent', 'sent', 'sending', 'recourse', 'glands', 'removed', 'coincidence', 'motels', 'annoy', 'adolescents', 'rounded', 'religious', 'cheddar', 'whom', 'randy', 'travis', 'flooding', 'housework', 'changing', 'impression', 'swims', 'occasional', 'separation', 'sentenced', 'attic', 'asks', 'pig', 'eagle', 'bingo', 'occurred', 'abused', 'bird', 'calipers', 'budgeting', 'bonsai', 'cohen', 'denied', 'commercialized', 'fits', 'rebuild', 'renamed', 'rotor', 'tiller', 'blood', 'guts', 'pitching', 'punishments', 'charges', 'calming', 'reverse', 'policemans', 'curse', 'taxed', 'mr', 'wheeled', 'cart', 'investigating', 'baking', 'braves', 'foregone', 'toxins', 'bacterial', 'expertise', 'hobby', 'hanging', 'periodicals', 'philosophy', 'federally', 'saves', 'notch', 'honeymoon', 'covers', 'bulk', 'expenses', 'playoff', 'concrete', 'hondas', 'resale', 'teenage', 'manhood', 'snack', 'doctorate', 'stacking', 'executives', 'glory', 'scanned', 'bed', 'adventures', 'stir', 'fry', 'salaries', 'waiver', 'disgusted', 'democratic', 'minuscule', 'contractors', 'builders', 'calculator', 'supervisors', 'absurd', 'blows', 'blizzards', 'effect', 'cares', 'strict', 'dealing', 'sam', 'huff', 'attorneys', 'tvs', 'surrogate', 'offhand', 'nailed', 'david', 'cia', 'spokesman', 'dean', 'slickers', 'participating', 'graphs', 'bath', 'musicals', 'tutorial', 'soviet', 'slices', 'identification', 'european', 'dealt', 'dip', 'affectionate', 'dislike', 'cabins', 'pricey', 'minnesota', 'homelike', 'lab', 'quitting', 'pleasurable', 'biscuits', 'gravy', 'delays', 'extensions', 'appearance', 'separating', 'flour', 'frontier', 'describing', 'clog', 'chair', 'software', 'thatd', 'babys', 'rings', 'friction', 'laughs', 'orthodontic', 'nurse', 'perform', 'allergic', 'silence', 'mexico', 'rending', 'creates', 'pushed', 'operating', 'degray', 'arkansas', 'louisiana', 'hopes', 'pirates', 'halfway', 'bathrooms', 'geared', 'lenses', 'cameras', 'shred', 'express', 'isolated', 'hiking', 'creek', 'overflows', 'compensate', 'absorbed', 'oklahomas', 'chevy', 'demonstrations', 'carmel', 'standing', 'excessive', 'backwards', 'evidently', 'elected', 'crowded', 'leaders', 'suits', 'lo', 'abide', 'suited', 'emission', 'zucchini', 'pattern', 'pocket', 'trusting', 'hang', 'roots', 'incredible', 'account', 'socially', 'aggravating', 'housekeepers', 'mailed', 'eligible', 'jeans', 'solicitation', 'prostitution', 'walmart', 'string', 'quartet', 'nowadays', 'precious', 'showing', 'submarine', 'denies', 'flunk', 'batteries', 'tremendously', 'conceive', 'unreasonable', 'weirdest', 'dominos', 'tents', 'reminds', 'constituency', 'recreational', 'sanitation', 'region', 'monitoring', 'chances', 'traditionally', 'equity', 'prior', 'hiring', 'mediation', 'tons', 'ruled', 'criticize', 'vein', 'shoe', 'products', 'abroad', 'steamer', 'ship', 'resorts', 'pressing', 'marketplace', 'subjective', 'capone', 'adopted', 'rewarding', 'offended', 'aaron', 'trafficking', 'bonus', 'degrading', 'majors', 'johnny', 'carson', 'interruptions', 'bragging', 'march', 'fifteenth', 'longevity', 'flies', 'presence', 'persian', 'replaced', 'immune', 'rehabilitate', 'kidding', 'prize', 'seventies', 'sections', 'token', 'attempting', 'resting', 'pulse', 'novels', 'queen', 'meteorological', 'disagree', 'defendants', 'snacks', 'expenditure', 'likely', 'chrome', 'assertive', 'wrinkled', 'utterance', 'trail', 'cayenne', 'bicycle', 'simplified', 'frivolous', 'panamanian', 'disastrous', 'february', 'culture', 'cosmopolitan', 'accounting', 'thursday', 'sentences', 'spicy', 'matthew', 'questionnaire', 'dryer', 'element', 'isaiah', 'setter', 'insides', 'panels', 'understandable', 'hacker', 'piddles', 'wicked', 'segments', 'revoked', 'commercial', 'productivity', 'symphony', 'observed', 'quicker', 'brick', 'mars', 'grandparents', 'bermuda', 'triangle', 'slap', 'stock', 'repaint', 'stone', 'camper', 'leaking', 'toyota', 'autobiography', 'pride', 'acceptance', 'realm', 'weights', 'convinced', 'vacations', 'philadelphia', 'armenian', 'replying', 'ticks', 'score', 'outrage', 'agreements', 'sophomore', 'insane', 'chipped', 'tile', 'plains', 'pacifist', 'scan', 'mississippi', 'beating', 'sales', 'bark', 'iran', 'vienna', 'inn', 'politics', 'cocky', 'absent', 'strangest', 'knock', 'descent', 'wrestled', 'befitting', 'quarter', 'acre', 'baloney', 'suasion', 'napping', 'cleanliness', 'twisty', 'portlands', 'slide', 'rugs', 'rests', 'referees', 'sensible', 'failsafe', 'rejoicing', 'prescription', 'cadillacs', 'learner', 'consequences', 'severance', 'cheers', 'valued', 'acuity', 'sustain', 'sprinkler', 'drives', 'drowsy', 'awhile', 'complaining', 'twang', 'instill', 'executing', 'bushes', 'tent', 'aspect', 'amazes', 'quantity', 'bakery', 'registered', 'dolls', 'factor', 'shareware', 'owned', 'including', 'rural', 'homework', 'correlation', 'frightening', 'parakeets', 'crossed', 'sentencing', 'marching', 'plugs', 'billboards', 'drag', 'hall', 'bull', 'belts', 'warning', 'suck', 'practicing', 'vegetarian', 'fanatic', 'hugh', 'mesa', 'valid', 'dialing', 'portland', 'catfish', 'correspondence', 'delighted', 'picturesque', 'youths', 'vast', 'rang']\n"
     ]
    }
   ],
   "source": [
    "print(len(uniqueWords))\n",
    "print(uniqueWords)"
   ]
  },
  {
   "cell_type": "code",
   "execution_count": 59,
   "metadata": {},
   "outputs": [],
   "source": [
    "phonemizedWords = {}\n",
    "\n",
    "for word in sorted(uniqueWords):\n",
    "    phones = []\n",
    "    for p in g2p(word): \n",
    "        p = re.sub(r'[0-9]', '', p)   \n",
    "        if re.match(r'[A-Z]+', p) or p == \" \": \n",
    "            phones.append(p)\n",
    "    phonemizedWords[word] = phones"
   ]
  },
  {
   "cell_type": "code",
   "execution_count": 65,
   "metadata": {},
   "outputs": [],
   "source": [
    "def fuzzyMatch(\n",
    "    phonemeSegment: List[str],\n",
    "    lexicon: Dict[str, List[str]],\n",
    "    maxDist: int = 8,\n",
    "    topK: int = 20\n",
    ") -> List[Tuple[str, float]]:\n",
    "    matches = []\n",
    "    for word, phonemes in lexicon.items():\n",
    "        dist = Levenshtein.distance(phonemeSegment, phonemes)\n",
    "        if dist <= maxDist:\n",
    "            normDist = dist / max(len(phonemeSegment), len(phonemes))\n",
    "            matches.append((word, normDist))\n",
    "    return sorted(matches, key=lambda x: x[1])[:topK]\n",
    "\n",
    "def phoneme2wordsHardSegmentation(\n",
    "    phonemes: List[str],\n",
    "    lexicon: Dict[str, List[str]],\n",
    "    lm,\n",
    "    blankToken: str = ' ',\n",
    "    lambdaLM: float = 0.17,\n",
    "    lambdaDist: float = 0.83,\n",
    "    minLen: int = 2\n",
    ") -> Tuple[List[str], float]:\n",
    "   \n",
    "    segments = []\n",
    "    buffer = []\n",
    "    for p in phonemes:\n",
    "        if p == blankToken:\n",
    "            if len(buffer) >= minLen or buffer == [\"AH\"] or buffer == ['AY']:\n",
    "                segments.append(buffer)\n",
    "            buffer = []\n",
    "        else:\n",
    "            buffer.append(p)\n",
    "    if len(buffer) >= minLen or buffer == [\"AH\"] or buffer == ['AY']:\n",
    "        segments.append(buffer)\n",
    "\n",
    "    decodedWords = []\n",
    "    normDistTotal = 0.0\n",
    "    for segment in segments:\n",
    "        matches = fuzzyMatch(segment, lexicon, maxDist = int(len(segment)) + 1)\n",
    "        if not matches:\n",
    "            decodedWords.append(\"<UNK>\")\n",
    "            continue\n",
    "\n",
    "        \n",
    "        scored = []\n",
    "        for word, normDist in matches:\n",
    "            \n",
    "            candidate = decodedWords + [word]\n",
    "            sentence = \" \".join(candidate)\n",
    "            lmScore = lm.score(sentence, bos = False, eos = False)  \n",
    "            score = lambdaLM * lmScore - lambdaDist * normDist\n",
    "            scored.append((word, score, normDist))\n",
    "\n",
    "        bestWord, bestScore, bestNormDist = max(scored, key = lambda x: x[1])\n",
    "        decodedWords.append(bestWord)\n",
    "        normDistTotal += bestNormDist\n",
    "\n",
    "    finalSentence = \" \".join(decodedWords)\n",
    "    finalLMScore = lm.score(finalSentence, bos = False, eos = False)\n",
    "\n",
    "    totalScore = lambdaLM * finalLMScore - lambdaDist * normDistTotal\n",
    "    return decodedWords, totalScore"
   ]
  },
  {
   "cell_type": "code",
   "execution_count": 66,
   "metadata": {},
   "outputs": [],
   "source": [
    "RESULTS = []\n",
    "for i, phonemeSeq in enumerate(decodedOut):\n",
    "    words, _ = phoneme2wordsHardSegmentation(phonemeSeq, phonemizedWords, lm)\n",
    "    RESULTS.append(\" \".join(words))"
   ]
  },
  {
   "cell_type": "code",
   "execution_count": 67,
   "metadata": {},
   "outputs": [],
   "source": [
    "WER = []\n",
    "for i in range(len(RESULTS)):\n",
    "    error = wer(LABELS[9000 + i], RESULTS[i])\n",
    "    WER.append(error)"
   ]
  },
  {
   "cell_type": "code",
   "execution_count": 68,
   "metadata": {},
   "outputs": [
    {
     "name": "stdout",
     "output_type": "stream",
     "text": [
      "Mean word error rate:  0.7814721925001112\n"
     ]
    }
   ],
   "source": [
    "print(\"Mean word error rate: \", np.mean(WER))"
   ]
  },
  {
   "cell_type": "code",
   "execution_count": 82,
   "metadata": {},
   "outputs": [
    {
     "name": "stdout",
     "output_type": "stream",
     "text": [
      "Decoded phoneme sequence:  ['IH', 'T', ' ', 'W', 'AA', 'Z', ' ', 'P', 'EY', 'T', ' ', 'F', 'AO', 'R']\n",
      "Ground truth phoneme sequence:  ['IH', 'T', ' ', 'W', 'AA', 'Z', ' ', 'P', 'EY', 'D', ' ', 'F', 'AO', 'R']\n",
      " \n",
      "Levenshtein distance between decoded and ground truth sequence:  1\n",
      "Length of ground truth sequence:  14\n",
      " \n",
      "Decoded sentence:  it was pay for\n",
      "Original sentence:  it was paid for\n"
     ]
    }
   ],
   "source": [
    "\"\"\"\n",
    "Visualize WERs.\n",
    "\"\"\"\n",
    "which = 1381\n",
    "print(\"Decoded phoneme sequence: \", decodedOut[which])\n",
    "print(\"Ground truth phoneme sequence: \", phonemizedSentences[9000 + which])\n",
    "print(\" \")\n",
    "print(\"Levenshtein distance between decoded and ground truth sequence: \", Levenshtein.distance(decodedOut[which], phonemizedSentences[9000 + which]))\n",
    "print(\"Length of ground truth sequence: \", len(phonemizedSentences[9000 + which]))\n",
    "print(\" \")\n",
    "print(\"Decoded sentence: \", RESULTS[which])\n",
    "print(\"Original sentence: \", LABELS[9000 + which])"
   ]
  }
 ],
 "metadata": {
  "kernelspec": {
   "display_name": "emgSpeech",
   "language": "python",
   "name": "python3"
  },
  "language_info": {
   "codemirror_mode": {
    "name": "ipython",
    "version": 3
   },
   "file_extension": ".py",
   "mimetype": "text/x-python",
   "name": "python",
   "nbconvert_exporter": "python",
   "pygments_lexer": "ipython3",
   "version": "3.10.15"
  }
 },
 "nbformat": 4,
 "nbformat_minor": 2
}
