{
 "cells": [
  {
   "cell_type": "code",
   "execution_count": 1,
   "metadata": {},
   "outputs": [],
   "source": [
    "import numpy as np\n",
    "import matplotlib.pyplot as plt"
   ]
  },
  {
   "cell_type": "code",
   "execution_count": 6,
   "metadata": {},
   "outputs": [],
   "source": [
    "\"\"\"Without diagonalization. No LM\"\"\"\n",
    "\n",
    "testCER1 = np.array([22.53, 12.81, 10.31, 12.40, 11.66, 7.91, 23.31, 21.03])\n",
    "valCER1 = np.array([20.59, 10.27, 11.07, 12.48, 12.30, 10.71, 25.22, 22.62])"
   ]
  },
  {
   "cell_type": "code",
   "execution_count": 7,
   "metadata": {},
   "outputs": [],
   "source": [
    "\"\"\"Without diagonalization. LM\"\"\"\n",
    "\n",
    "testCER2 = np.array([15.74, 6.06, 5.58, 6.21, 5.23, 3.46, 14.35, 13.04])\n",
    "valCER2 = np.array([14.97, 6.62, 7.29, 7.35, 7.45, 7.04, 17.96, 15.14])"
   ]
  },
  {
   "cell_type": "code",
   "execution_count": 8,
   "metadata": {},
   "outputs": [],
   "source": [
    "\"\"\"With diagonalization. No LM\"\"\"\n",
    "\n",
    "testCER3 = np.array([22.59, 11.35, 10.37, 10.73, 9.80, 6.86, 22.41, 18.15])\n",
    "valCER3 = np.array([18.49, 9.77, 11.39, 10.55, 10.74, 9.65, 24.03, 19.98])"
   ]
  },
  {
   "cell_type": "code",
   "execution_count": 9,
   "metadata": {},
   "outputs": [],
   "source": [
    "\"\"\"With diagonalization. LM\"\"\"\n",
    "\n",
    "testCER4 = np.array([15.41, 5.80, 5.55, 4.91, 4.01, 2.96, 14.47, 10.48])\n",
    "valCER4= np.array([13.22, 6.32, 7.06, 6.87, 6.93, 6.59, 16.82, 13.07])"
   ]
  },
  {
   "cell_type": "code",
   "execution_count": 10,
   "metadata": {},
   "outputs": [
    {
     "name": "stdout",
     "output_type": "stream",
     "text": [
      "15.245000000000001 5.663629578282817\n",
      "15.6575 5.702683030819791\n"
     ]
    }
   ],
   "source": [
    "print(np.mean(testCER1), np.std(testCER1))\n",
    "print(np.mean(valCER1), np.std(valCER1))"
   ]
  },
  {
   "cell_type": "code",
   "execution_count": 11,
   "metadata": {},
   "outputs": [
    {
     "name": "stdout",
     "output_type": "stream",
     "text": [
      "8.70875 4.510012299040879\n",
      "10.477500000000001 4.3833940901999675\n"
     ]
    }
   ],
   "source": [
    "print(np.mean(testCER2), np.std(testCER2))\n",
    "print(np.mean(valCER2), np.std(valCER2))"
   ]
  },
  {
   "cell_type": "code",
   "execution_count": 12,
   "metadata": {},
   "outputs": [
    {
     "name": "stdout",
     "output_type": "stream",
     "text": [
      "14.032499999999999 5.714478869503325\n",
      "14.325000000000001 5.26585700527464\n"
     ]
    }
   ],
   "source": [
    "print(np.mean(testCER3), np.std(testCER3))\n",
    "print(np.mean(valCER3), np.std(valCER3))"
   ]
  },
  {
   "cell_type": "code",
   "execution_count": 13,
   "metadata": {},
   "outputs": [
    {
     "name": "stdout",
     "output_type": "stream",
     "text": [
      "7.94875 4.536114630110222\n",
      "9.61 3.84260328423323\n"
     ]
    }
   ],
   "source": [
    "print(np.mean(testCER4), np.std(testCER4))\n",
    "print(np.mean(valCER4), np.std(valCER4))"
   ]
  }
 ],
 "metadata": {
  "kernelspec": {
   "display_name": "emg2qwerty",
   "language": "python",
   "name": "python3"
  },
  "language_info": {
   "codemirror_mode": {
    "name": "ipython",
    "version": 3
   },
   "file_extension": ".py",
   "mimetype": "text/x-python",
   "name": "python",
   "nbconvert_exporter": "python",
   "pygments_lexer": "ipython3",
   "version": "3.10.13"
  }
 },
 "nbformat": 4,
 "nbformat_minor": 2
}
